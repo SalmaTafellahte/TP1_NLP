{
  "nbformat": 4,
  "nbformat_minor": 0,
  "metadata": {
    "colab": {
      "provenance": []
    },
    "kernelspec": {
      "name": "python3",
      "display_name": "Python 3"
    },
    "language_info": {
      "name": "python"
    }
  },
  "cells": [
    {
      "cell_type": "markdown",
      "source": [
        " **Préparation de l'environnement :\n",
        "Installez les bibliothèques nécessaires**"
      ],
      "metadata": {
        "id": "2sq3LA9Ze1T4"
      }
    },
    {
      "cell_type": "code",
      "source": [
        "!pip install pandas\n",
        "!pip install nltk\n"
      ],
      "metadata": {
        "colab": {
          "base_uri": "https://localhost:8080/"
        },
        "id": "4mUOBEjlejHY",
        "outputId": "c7858a76-67a6-498d-c04f-568cb46c0d17"
      },
      "execution_count": 7,
      "outputs": [
        {
          "output_type": "stream",
          "name": "stdout",
          "text": [
            "Requirement already satisfied: pandas in /usr/local/lib/python3.10/dist-packages (1.5.3)\n",
            "Requirement already satisfied: python-dateutil>=2.8.1 in /usr/local/lib/python3.10/dist-packages (from pandas) (2.8.2)\n",
            "Requirement already satisfied: pytz>=2020.1 in /usr/local/lib/python3.10/dist-packages (from pandas) (2023.4)\n",
            "Requirement already satisfied: numpy>=1.21.0 in /usr/local/lib/python3.10/dist-packages (from pandas) (1.25.2)\n",
            "Requirement already satisfied: six>=1.5 in /usr/local/lib/python3.10/dist-packages (from python-dateutil>=2.8.1->pandas) (1.16.0)\n",
            "Requirement already satisfied: nltk in /usr/local/lib/python3.10/dist-packages (3.8.1)\n",
            "Requirement already satisfied: click in /usr/local/lib/python3.10/dist-packages (from nltk) (8.1.7)\n",
            "Requirement already satisfied: joblib in /usr/local/lib/python3.10/dist-packages (from nltk) (1.3.2)\n",
            "Requirement already satisfied: regex>=2021.8.3 in /usr/local/lib/python3.10/dist-packages (from nltk) (2023.12.25)\n",
            "Requirement already satisfied: tqdm in /usr/local/lib/python3.10/dist-packages (from nltk) (4.66.2)\n"
          ]
        }
      ]
    },
    {
      "cell_type": "markdown",
      "source": [
        "**Install and Connect To Kaggle**"
      ],
      "metadata": {
        "id": "-6-JnlcEflTw"
      }
    },
    {
      "cell_type": "code",
      "source": [
        "!pip install kaggle\n"
      ],
      "metadata": {
        "colab": {
          "base_uri": "https://localhost:8080/"
        },
        "id": "k-8Als84gO85",
        "outputId": "b8d6d6f2-a676-4ef9-b728-9f0e9b00ea93"
      },
      "execution_count": 8,
      "outputs": [
        {
          "output_type": "stream",
          "name": "stdout",
          "text": [
            "Requirement already satisfied: kaggle in /usr/local/lib/python3.10/dist-packages (1.5.16)\n",
            "Requirement already satisfied: six>=1.10 in /usr/local/lib/python3.10/dist-packages (from kaggle) (1.16.0)\n",
            "Requirement already satisfied: certifi in /usr/local/lib/python3.10/dist-packages (from kaggle) (2024.2.2)\n",
            "Requirement already satisfied: python-dateutil in /usr/local/lib/python3.10/dist-packages (from kaggle) (2.8.2)\n",
            "Requirement already satisfied: requests in /usr/local/lib/python3.10/dist-packages (from kaggle) (2.31.0)\n",
            "Requirement already satisfied: tqdm in /usr/local/lib/python3.10/dist-packages (from kaggle) (4.66.2)\n",
            "Requirement already satisfied: python-slugify in /usr/local/lib/python3.10/dist-packages (from kaggle) (8.0.4)\n",
            "Requirement already satisfied: urllib3 in /usr/local/lib/python3.10/dist-packages (from kaggle) (2.0.7)\n",
            "Requirement already satisfied: bleach in /usr/local/lib/python3.10/dist-packages (from kaggle) (6.1.0)\n",
            "Requirement already satisfied: webencodings in /usr/local/lib/python3.10/dist-packages (from bleach->kaggle) (0.5.1)\n",
            "Requirement already satisfied: text-unidecode>=1.3 in /usr/local/lib/python3.10/dist-packages (from python-slugify->kaggle) (1.3)\n",
            "Requirement already satisfied: charset-normalizer<4,>=2 in /usr/local/lib/python3.10/dist-packages (from requests->kaggle) (3.3.2)\n",
            "Requirement already satisfied: idna<4,>=2.5 in /usr/local/lib/python3.10/dist-packages (from requests->kaggle) (3.6)\n"
          ]
        }
      ]
    },
    {
      "cell_type": "markdown",
      "source": [
        "**Importation des fichiers de configuration dans Colab :**"
      ],
      "metadata": {
        "id": "r09Jww_wjtXR"
      }
    },
    {
      "cell_type": "code",
      "source": [
        "from google.colab import files\n",
        "\n",
        "uploaded = files.upload()\n"
      ],
      "metadata": {
        "colab": {
          "base_uri": "https://localhost:8080/",
          "height": 73
        },
        "id": "6XgkmUeSjfi_",
        "outputId": "2acfeddc-c3da-4af1-922e-3f6ad895a8fd"
      },
      "execution_count": 9,
      "outputs": [
        {
          "output_type": "display_data",
          "data": {
            "text/plain": [
              "<IPython.core.display.HTML object>"
            ],
            "text/html": [
              "\n",
              "     <input type=\"file\" id=\"files-fc6efc02-a3cc-48fc-be9f-303b38f13420\" name=\"files[]\" multiple disabled\n",
              "        style=\"border:none\" />\n",
              "     <output id=\"result-fc6efc02-a3cc-48fc-be9f-303b38f13420\">\n",
              "      Upload widget is only available when the cell has been executed in the\n",
              "      current browser session. Please rerun this cell to enable.\n",
              "      </output>\n",
              "      <script>// Copyright 2017 Google LLC\n",
              "//\n",
              "// Licensed under the Apache License, Version 2.0 (the \"License\");\n",
              "// you may not use this file except in compliance with the License.\n",
              "// You may obtain a copy of the License at\n",
              "//\n",
              "//      http://www.apache.org/licenses/LICENSE-2.0\n",
              "//\n",
              "// Unless required by applicable law or agreed to in writing, software\n",
              "// distributed under the License is distributed on an \"AS IS\" BASIS,\n",
              "// WITHOUT WARRANTIES OR CONDITIONS OF ANY KIND, either express or implied.\n",
              "// See the License for the specific language governing permissions and\n",
              "// limitations under the License.\n",
              "\n",
              "/**\n",
              " * @fileoverview Helpers for google.colab Python module.\n",
              " */\n",
              "(function(scope) {\n",
              "function span(text, styleAttributes = {}) {\n",
              "  const element = document.createElement('span');\n",
              "  element.textContent = text;\n",
              "  for (const key of Object.keys(styleAttributes)) {\n",
              "    element.style[key] = styleAttributes[key];\n",
              "  }\n",
              "  return element;\n",
              "}\n",
              "\n",
              "// Max number of bytes which will be uploaded at a time.\n",
              "const MAX_PAYLOAD_SIZE = 100 * 1024;\n",
              "\n",
              "function _uploadFiles(inputId, outputId) {\n",
              "  const steps = uploadFilesStep(inputId, outputId);\n",
              "  const outputElement = document.getElementById(outputId);\n",
              "  // Cache steps on the outputElement to make it available for the next call\n",
              "  // to uploadFilesContinue from Python.\n",
              "  outputElement.steps = steps;\n",
              "\n",
              "  return _uploadFilesContinue(outputId);\n",
              "}\n",
              "\n",
              "// This is roughly an async generator (not supported in the browser yet),\n",
              "// where there are multiple asynchronous steps and the Python side is going\n",
              "// to poll for completion of each step.\n",
              "// This uses a Promise to block the python side on completion of each step,\n",
              "// then passes the result of the previous step as the input to the next step.\n",
              "function _uploadFilesContinue(outputId) {\n",
              "  const outputElement = document.getElementById(outputId);\n",
              "  const steps = outputElement.steps;\n",
              "\n",
              "  const next = steps.next(outputElement.lastPromiseValue);\n",
              "  return Promise.resolve(next.value.promise).then((value) => {\n",
              "    // Cache the last promise value to make it available to the next\n",
              "    // step of the generator.\n",
              "    outputElement.lastPromiseValue = value;\n",
              "    return next.value.response;\n",
              "  });\n",
              "}\n",
              "\n",
              "/**\n",
              " * Generator function which is called between each async step of the upload\n",
              " * process.\n",
              " * @param {string} inputId Element ID of the input file picker element.\n",
              " * @param {string} outputId Element ID of the output display.\n",
              " * @return {!Iterable<!Object>} Iterable of next steps.\n",
              " */\n",
              "function* uploadFilesStep(inputId, outputId) {\n",
              "  const inputElement = document.getElementById(inputId);\n",
              "  inputElement.disabled = false;\n",
              "\n",
              "  const outputElement = document.getElementById(outputId);\n",
              "  outputElement.innerHTML = '';\n",
              "\n",
              "  const pickedPromise = new Promise((resolve) => {\n",
              "    inputElement.addEventListener('change', (e) => {\n",
              "      resolve(e.target.files);\n",
              "    });\n",
              "  });\n",
              "\n",
              "  const cancel = document.createElement('button');\n",
              "  inputElement.parentElement.appendChild(cancel);\n",
              "  cancel.textContent = 'Cancel upload';\n",
              "  const cancelPromise = new Promise((resolve) => {\n",
              "    cancel.onclick = () => {\n",
              "      resolve(null);\n",
              "    };\n",
              "  });\n",
              "\n",
              "  // Wait for the user to pick the files.\n",
              "  const files = yield {\n",
              "    promise: Promise.race([pickedPromise, cancelPromise]),\n",
              "    response: {\n",
              "      action: 'starting',\n",
              "    }\n",
              "  };\n",
              "\n",
              "  cancel.remove();\n",
              "\n",
              "  // Disable the input element since further picks are not allowed.\n",
              "  inputElement.disabled = true;\n",
              "\n",
              "  if (!files) {\n",
              "    return {\n",
              "      response: {\n",
              "        action: 'complete',\n",
              "      }\n",
              "    };\n",
              "  }\n",
              "\n",
              "  for (const file of files) {\n",
              "    const li = document.createElement('li');\n",
              "    li.append(span(file.name, {fontWeight: 'bold'}));\n",
              "    li.append(span(\n",
              "        `(${file.type || 'n/a'}) - ${file.size} bytes, ` +\n",
              "        `last modified: ${\n",
              "            file.lastModifiedDate ? file.lastModifiedDate.toLocaleDateString() :\n",
              "                                    'n/a'} - `));\n",
              "    const percent = span('0% done');\n",
              "    li.appendChild(percent);\n",
              "\n",
              "    outputElement.appendChild(li);\n",
              "\n",
              "    const fileDataPromise = new Promise((resolve) => {\n",
              "      const reader = new FileReader();\n",
              "      reader.onload = (e) => {\n",
              "        resolve(e.target.result);\n",
              "      };\n",
              "      reader.readAsArrayBuffer(file);\n",
              "    });\n",
              "    // Wait for the data to be ready.\n",
              "    let fileData = yield {\n",
              "      promise: fileDataPromise,\n",
              "      response: {\n",
              "        action: 'continue',\n",
              "      }\n",
              "    };\n",
              "\n",
              "    // Use a chunked sending to avoid message size limits. See b/62115660.\n",
              "    let position = 0;\n",
              "    do {\n",
              "      const length = Math.min(fileData.byteLength - position, MAX_PAYLOAD_SIZE);\n",
              "      const chunk = new Uint8Array(fileData, position, length);\n",
              "      position += length;\n",
              "\n",
              "      const base64 = btoa(String.fromCharCode.apply(null, chunk));\n",
              "      yield {\n",
              "        response: {\n",
              "          action: 'append',\n",
              "          file: file.name,\n",
              "          data: base64,\n",
              "        },\n",
              "      };\n",
              "\n",
              "      let percentDone = fileData.byteLength === 0 ?\n",
              "          100 :\n",
              "          Math.round((position / fileData.byteLength) * 100);\n",
              "      percent.textContent = `${percentDone}% done`;\n",
              "\n",
              "    } while (position < fileData.byteLength);\n",
              "  }\n",
              "\n",
              "  // All done.\n",
              "  yield {\n",
              "    response: {\n",
              "      action: 'complete',\n",
              "    }\n",
              "  };\n",
              "}\n",
              "\n",
              "scope.google = scope.google || {};\n",
              "scope.google.colab = scope.google.colab || {};\n",
              "scope.google.colab._files = {\n",
              "  _uploadFiles,\n",
              "  _uploadFilesContinue,\n",
              "};\n",
              "})(self);\n",
              "</script> "
            ]
          },
          "metadata": {}
        },
        {
          "output_type": "stream",
          "name": "stdout",
          "text": [
            "Saving kaggle.json to kaggle.json\n"
          ]
        }
      ]
    },
    {
      "cell_type": "markdown",
      "source": [
        "**Déplacement du fichier de configuration :**"
      ],
      "metadata": {
        "id": "NPSft-USjzRF"
      }
    },
    {
      "cell_type": "code",
      "source": [
        "!mkdir -p ~/.kaggle\n",
        "!cp kaggle.json ~/.kaggle/\n"
      ],
      "metadata": {
        "id": "4zTkuvrvj-TM"
      },
      "execution_count": 10,
      "outputs": []
    },
    {
      "cell_type": "markdown",
      "source": [
        "**Autorisation pour utiliser l'API Kaggle :**"
      ],
      "metadata": {
        "id": "9eWlQNAIkVQ5"
      }
    },
    {
      "cell_type": "code",
      "source": [
        "!chmod 600 ~/.kaggle/kaggle.json\n"
      ],
      "metadata": {
        "id": "arNNbKvDkabv"
      },
      "execution_count": 11,
      "outputs": []
    },
    {
      "cell_type": "markdown",
      "source": [
        "**Téléchargement du dataset :**"
      ],
      "metadata": {
        "id": "gyQ0QkiRk4zI"
      }
    },
    {
      "cell_type": "code",
      "source": [
        "!kaggle datasets download -d thoughtvector/customer-support-on-twitter"
      ],
      "metadata": {
        "colab": {
          "base_uri": "https://localhost:8080/"
        },
        "id": "Zgegb_X7k3x1",
        "outputId": "cb5786a6-e42b-4426-859d-52b6264d1382"
      },
      "execution_count": 12,
      "outputs": [
        {
          "output_type": "stream",
          "name": "stdout",
          "text": [
            "Downloading customer-support-on-twitter.zip to /content\n",
            "100% 168M/169M [00:04<00:00, 41.2MB/s]\n",
            "100% 169M/169M [00:04<00:00, 36.6MB/s]\n"
          ]
        }
      ]
    },
    {
      "cell_type": "markdown",
      "source": [
        "**Décompression du dataset :**"
      ],
      "metadata": {
        "id": "ax3nvw0UlpR5"
      }
    },
    {
      "cell_type": "code",
      "source": [
        "!unzip customer-support-on-twitter.zip\n"
      ],
      "metadata": {
        "colab": {
          "base_uri": "https://localhost:8080/"
        },
        "id": "JGy8brsVl4jA",
        "outputId": "4ca82e5b-c243-4d06-f174-01083e0de984"
      },
      "execution_count": 13,
      "outputs": [
        {
          "output_type": "stream",
          "name": "stdout",
          "text": [
            "Archive:  customer-support-on-twitter.zip\n",
            "  inflating: sample.csv              \n",
            "  inflating: twcs/twcs.csv           \n"
          ]
        }
      ]
    },
    {
      "cell_type": "markdown",
      "source": [
        "**Chargement des données :**"
      ],
      "metadata": {
        "id": "NtobykDYmIFl"
      }
    },
    {
      "cell_type": "code",
      "source": [
        "import pandas as pd\n",
        "import numpy as np\n",
        "import matplotlib.pyplot as plt"
      ],
      "metadata": {
        "id": "I6ZXhkzanUAs"
      },
      "execution_count": 14,
      "outputs": []
    },
    {
      "cell_type": "code",
      "source": [
        "#NLTK, Spacy"
      ],
      "metadata": {
        "id": "7vGRG0vgnsIg"
      },
      "execution_count": 15,
      "outputs": []
    },
    {
      "cell_type": "code",
      "source": [
        "df=pd.read_csv('/content/sample.csv')"
      ],
      "metadata": {
        "id": "1MQras1BnwGj"
      },
      "execution_count": 16,
      "outputs": []
    },
    {
      "cell_type": "code",
      "source": [
        "df"
      ],
      "metadata": {
        "colab": {
          "base_uri": "https://localhost:8080/",
          "height": 597
        },
        "id": "PhDvn-ffny46",
        "outputId": "c3558a12-c6ac-44ae-f5b0-537a7024a62a"
      },
      "execution_count": 17,
      "outputs": [
        {
          "output_type": "execute_result",
          "data": {
            "text/plain": [
              "    tweet_id     author_id  inbound                      created_at  \\\n",
              "0     119237        105834     True  Wed Oct 11 06:55:44 +0000 2017   \n",
              "1     119238  ChaseSupport    False  Wed Oct 11 13:25:49 +0000 2017   \n",
              "2     119239        105835     True  Wed Oct 11 13:00:09 +0000 2017   \n",
              "3     119240  VirginTrains    False  Tue Oct 10 15:16:08 +0000 2017   \n",
              "4     119241        105836     True  Tue Oct 10 15:17:21 +0000 2017   \n",
              "..       ...           ...      ...                             ...   \n",
              "88    119330        105859     True  Wed Oct 11 13:50:42 +0000 2017   \n",
              "89    119331        105860     True  Wed Oct 11 13:47:14 +0000 2017   \n",
              "90    119332         Tesco    False  Wed Oct 11 13:34:06 +0000 2017   \n",
              "91    119333        105861     True  Wed Oct 11 14:05:18 +0000 2017   \n",
              "92    119335         Tesco    False  Wed Oct 11 15:38:07 +0000 2017   \n",
              "\n",
              "                                                 text response_tweet_id  \\\n",
              "0   @AppleSupport causing the reply to be disregar...            119236   \n",
              "1   @105835 Your business means a lot to us. Pleas...               NaN   \n",
              "2   @76328 I really hope you all change but I'm su...            119238   \n",
              "3   @105836 LiveChat is online at the moment - htt...            119241   \n",
              "4   @VirginTrains see attached error message. I've...            119243   \n",
              "..                                                ...               ...   \n",
              "88  @105860 I wish Amazon had an option of where I...            119329   \n",
              "89  They reschedule my shit for tomorrow https://t...            119330   \n",
              "90  @105861 Hey Sara, sorry to hear of the issues ...            119333   \n",
              "91  @Tesco bit of both - finding the layout cumber...     119335,119336   \n",
              "92  @105861 If that doesn't help please DM your fu...               NaN   \n",
              "\n",
              "    in_response_to_tweet_id  \n",
              "0                       NaN  \n",
              "1                  119239.0  \n",
              "2                       NaN  \n",
              "3                  119242.0  \n",
              "4                  119240.0  \n",
              "..                      ...  \n",
              "88                 119331.0  \n",
              "89                      NaN  \n",
              "90                 119334.0  \n",
              "91                 119332.0  \n",
              "92                 119333.0  \n",
              "\n",
              "[93 rows x 7 columns]"
            ],
            "text/html": [
              "\n",
              "  <div id=\"df-b6c3dc27-a96c-4f58-b0ed-4200ac661145\" class=\"colab-df-container\">\n",
              "    <div>\n",
              "<style scoped>\n",
              "    .dataframe tbody tr th:only-of-type {\n",
              "        vertical-align: middle;\n",
              "    }\n",
              "\n",
              "    .dataframe tbody tr th {\n",
              "        vertical-align: top;\n",
              "    }\n",
              "\n",
              "    .dataframe thead th {\n",
              "        text-align: right;\n",
              "    }\n",
              "</style>\n",
              "<table border=\"1\" class=\"dataframe\">\n",
              "  <thead>\n",
              "    <tr style=\"text-align: right;\">\n",
              "      <th></th>\n",
              "      <th>tweet_id</th>\n",
              "      <th>author_id</th>\n",
              "      <th>inbound</th>\n",
              "      <th>created_at</th>\n",
              "      <th>text</th>\n",
              "      <th>response_tweet_id</th>\n",
              "      <th>in_response_to_tweet_id</th>\n",
              "    </tr>\n",
              "  </thead>\n",
              "  <tbody>\n",
              "    <tr>\n",
              "      <th>0</th>\n",
              "      <td>119237</td>\n",
              "      <td>105834</td>\n",
              "      <td>True</td>\n",
              "      <td>Wed Oct 11 06:55:44 +0000 2017</td>\n",
              "      <td>@AppleSupport causing the reply to be disregar...</td>\n",
              "      <td>119236</td>\n",
              "      <td>NaN</td>\n",
              "    </tr>\n",
              "    <tr>\n",
              "      <th>1</th>\n",
              "      <td>119238</td>\n",
              "      <td>ChaseSupport</td>\n",
              "      <td>False</td>\n",
              "      <td>Wed Oct 11 13:25:49 +0000 2017</td>\n",
              "      <td>@105835 Your business means a lot to us. Pleas...</td>\n",
              "      <td>NaN</td>\n",
              "      <td>119239.0</td>\n",
              "    </tr>\n",
              "    <tr>\n",
              "      <th>2</th>\n",
              "      <td>119239</td>\n",
              "      <td>105835</td>\n",
              "      <td>True</td>\n",
              "      <td>Wed Oct 11 13:00:09 +0000 2017</td>\n",
              "      <td>@76328 I really hope you all change but I'm su...</td>\n",
              "      <td>119238</td>\n",
              "      <td>NaN</td>\n",
              "    </tr>\n",
              "    <tr>\n",
              "      <th>3</th>\n",
              "      <td>119240</td>\n",
              "      <td>VirginTrains</td>\n",
              "      <td>False</td>\n",
              "      <td>Tue Oct 10 15:16:08 +0000 2017</td>\n",
              "      <td>@105836 LiveChat is online at the moment - htt...</td>\n",
              "      <td>119241</td>\n",
              "      <td>119242.0</td>\n",
              "    </tr>\n",
              "    <tr>\n",
              "      <th>4</th>\n",
              "      <td>119241</td>\n",
              "      <td>105836</td>\n",
              "      <td>True</td>\n",
              "      <td>Tue Oct 10 15:17:21 +0000 2017</td>\n",
              "      <td>@VirginTrains see attached error message. I've...</td>\n",
              "      <td>119243</td>\n",
              "      <td>119240.0</td>\n",
              "    </tr>\n",
              "    <tr>\n",
              "      <th>...</th>\n",
              "      <td>...</td>\n",
              "      <td>...</td>\n",
              "      <td>...</td>\n",
              "      <td>...</td>\n",
              "      <td>...</td>\n",
              "      <td>...</td>\n",
              "      <td>...</td>\n",
              "    </tr>\n",
              "    <tr>\n",
              "      <th>88</th>\n",
              "      <td>119330</td>\n",
              "      <td>105859</td>\n",
              "      <td>True</td>\n",
              "      <td>Wed Oct 11 13:50:42 +0000 2017</td>\n",
              "      <td>@105860 I wish Amazon had an option of where I...</td>\n",
              "      <td>119329</td>\n",
              "      <td>119331.0</td>\n",
              "    </tr>\n",
              "    <tr>\n",
              "      <th>89</th>\n",
              "      <td>119331</td>\n",
              "      <td>105860</td>\n",
              "      <td>True</td>\n",
              "      <td>Wed Oct 11 13:47:14 +0000 2017</td>\n",
              "      <td>They reschedule my shit for tomorrow https://t...</td>\n",
              "      <td>119330</td>\n",
              "      <td>NaN</td>\n",
              "    </tr>\n",
              "    <tr>\n",
              "      <th>90</th>\n",
              "      <td>119332</td>\n",
              "      <td>Tesco</td>\n",
              "      <td>False</td>\n",
              "      <td>Wed Oct 11 13:34:06 +0000 2017</td>\n",
              "      <td>@105861 Hey Sara, sorry to hear of the issues ...</td>\n",
              "      <td>119333</td>\n",
              "      <td>119334.0</td>\n",
              "    </tr>\n",
              "    <tr>\n",
              "      <th>91</th>\n",
              "      <td>119333</td>\n",
              "      <td>105861</td>\n",
              "      <td>True</td>\n",
              "      <td>Wed Oct 11 14:05:18 +0000 2017</td>\n",
              "      <td>@Tesco bit of both - finding the layout cumber...</td>\n",
              "      <td>119335,119336</td>\n",
              "      <td>119332.0</td>\n",
              "    </tr>\n",
              "    <tr>\n",
              "      <th>92</th>\n",
              "      <td>119335</td>\n",
              "      <td>Tesco</td>\n",
              "      <td>False</td>\n",
              "      <td>Wed Oct 11 15:38:07 +0000 2017</td>\n",
              "      <td>@105861 If that doesn't help please DM your fu...</td>\n",
              "      <td>NaN</td>\n",
              "      <td>119333.0</td>\n",
              "    </tr>\n",
              "  </tbody>\n",
              "</table>\n",
              "<p>93 rows × 7 columns</p>\n",
              "</div>\n",
              "    <div class=\"colab-df-buttons\">\n",
              "\n",
              "  <div class=\"colab-df-container\">\n",
              "    <button class=\"colab-df-convert\" onclick=\"convertToInteractive('df-b6c3dc27-a96c-4f58-b0ed-4200ac661145')\"\n",
              "            title=\"Convert this dataframe to an interactive table.\"\n",
              "            style=\"display:none;\">\n",
              "\n",
              "  <svg xmlns=\"http://www.w3.org/2000/svg\" height=\"24px\" viewBox=\"0 -960 960 960\">\n",
              "    <path d=\"M120-120v-720h720v720H120Zm60-500h600v-160H180v160Zm220 220h160v-160H400v160Zm0 220h160v-160H400v160ZM180-400h160v-160H180v160Zm440 0h160v-160H620v160ZM180-180h160v-160H180v160Zm440 0h160v-160H620v160Z\"/>\n",
              "  </svg>\n",
              "    </button>\n",
              "\n",
              "  <style>\n",
              "    .colab-df-container {\n",
              "      display:flex;\n",
              "      gap: 12px;\n",
              "    }\n",
              "\n",
              "    .colab-df-convert {\n",
              "      background-color: #E8F0FE;\n",
              "      border: none;\n",
              "      border-radius: 50%;\n",
              "      cursor: pointer;\n",
              "      display: none;\n",
              "      fill: #1967D2;\n",
              "      height: 32px;\n",
              "      padding: 0 0 0 0;\n",
              "      width: 32px;\n",
              "    }\n",
              "\n",
              "    .colab-df-convert:hover {\n",
              "      background-color: #E2EBFA;\n",
              "      box-shadow: 0px 1px 2px rgba(60, 64, 67, 0.3), 0px 1px 3px 1px rgba(60, 64, 67, 0.15);\n",
              "      fill: #174EA6;\n",
              "    }\n",
              "\n",
              "    .colab-df-buttons div {\n",
              "      margin-bottom: 4px;\n",
              "    }\n",
              "\n",
              "    [theme=dark] .colab-df-convert {\n",
              "      background-color: #3B4455;\n",
              "      fill: #D2E3FC;\n",
              "    }\n",
              "\n",
              "    [theme=dark] .colab-df-convert:hover {\n",
              "      background-color: #434B5C;\n",
              "      box-shadow: 0px 1px 3px 1px rgba(0, 0, 0, 0.15);\n",
              "      filter: drop-shadow(0px 1px 2px rgba(0, 0, 0, 0.3));\n",
              "      fill: #FFFFFF;\n",
              "    }\n",
              "  </style>\n",
              "\n",
              "    <script>\n",
              "      const buttonEl =\n",
              "        document.querySelector('#df-b6c3dc27-a96c-4f58-b0ed-4200ac661145 button.colab-df-convert');\n",
              "      buttonEl.style.display =\n",
              "        google.colab.kernel.accessAllowed ? 'block' : 'none';\n",
              "\n",
              "      async function convertToInteractive(key) {\n",
              "        const element = document.querySelector('#df-b6c3dc27-a96c-4f58-b0ed-4200ac661145');\n",
              "        const dataTable =\n",
              "          await google.colab.kernel.invokeFunction('convertToInteractive',\n",
              "                                                    [key], {});\n",
              "        if (!dataTable) return;\n",
              "\n",
              "        const docLinkHtml = 'Like what you see? Visit the ' +\n",
              "          '<a target=\"_blank\" href=https://colab.research.google.com/notebooks/data_table.ipynb>data table notebook</a>'\n",
              "          + ' to learn more about interactive tables.';\n",
              "        element.innerHTML = '';\n",
              "        dataTable['output_type'] = 'display_data';\n",
              "        await google.colab.output.renderOutput(dataTable, element);\n",
              "        const docLink = document.createElement('div');\n",
              "        docLink.innerHTML = docLinkHtml;\n",
              "        element.appendChild(docLink);\n",
              "      }\n",
              "    </script>\n",
              "  </div>\n",
              "\n",
              "\n",
              "<div id=\"df-7443cbbe-d14d-4489-9dc1-8b5ad5385fc3\">\n",
              "  <button class=\"colab-df-quickchart\" onclick=\"quickchart('df-7443cbbe-d14d-4489-9dc1-8b5ad5385fc3')\"\n",
              "            title=\"Suggest charts\"\n",
              "            style=\"display:none;\">\n",
              "\n",
              "<svg xmlns=\"http://www.w3.org/2000/svg\" height=\"24px\"viewBox=\"0 0 24 24\"\n",
              "     width=\"24px\">\n",
              "    <g>\n",
              "        <path d=\"M19 3H5c-1.1 0-2 .9-2 2v14c0 1.1.9 2 2 2h14c1.1 0 2-.9 2-2V5c0-1.1-.9-2-2-2zM9 17H7v-7h2v7zm4 0h-2V7h2v10zm4 0h-2v-4h2v4z\"/>\n",
              "    </g>\n",
              "</svg>\n",
              "  </button>\n",
              "\n",
              "<style>\n",
              "  .colab-df-quickchart {\n",
              "      --bg-color: #E8F0FE;\n",
              "      --fill-color: #1967D2;\n",
              "      --hover-bg-color: #E2EBFA;\n",
              "      --hover-fill-color: #174EA6;\n",
              "      --disabled-fill-color: #AAA;\n",
              "      --disabled-bg-color: #DDD;\n",
              "  }\n",
              "\n",
              "  [theme=dark] .colab-df-quickchart {\n",
              "      --bg-color: #3B4455;\n",
              "      --fill-color: #D2E3FC;\n",
              "      --hover-bg-color: #434B5C;\n",
              "      --hover-fill-color: #FFFFFF;\n",
              "      --disabled-bg-color: #3B4455;\n",
              "      --disabled-fill-color: #666;\n",
              "  }\n",
              "\n",
              "  .colab-df-quickchart {\n",
              "    background-color: var(--bg-color);\n",
              "    border: none;\n",
              "    border-radius: 50%;\n",
              "    cursor: pointer;\n",
              "    display: none;\n",
              "    fill: var(--fill-color);\n",
              "    height: 32px;\n",
              "    padding: 0;\n",
              "    width: 32px;\n",
              "  }\n",
              "\n",
              "  .colab-df-quickchart:hover {\n",
              "    background-color: var(--hover-bg-color);\n",
              "    box-shadow: 0 1px 2px rgba(60, 64, 67, 0.3), 0 1px 3px 1px rgba(60, 64, 67, 0.15);\n",
              "    fill: var(--button-hover-fill-color);\n",
              "  }\n",
              "\n",
              "  .colab-df-quickchart-complete:disabled,\n",
              "  .colab-df-quickchart-complete:disabled:hover {\n",
              "    background-color: var(--disabled-bg-color);\n",
              "    fill: var(--disabled-fill-color);\n",
              "    box-shadow: none;\n",
              "  }\n",
              "\n",
              "  .colab-df-spinner {\n",
              "    border: 2px solid var(--fill-color);\n",
              "    border-color: transparent;\n",
              "    border-bottom-color: var(--fill-color);\n",
              "    animation:\n",
              "      spin 1s steps(1) infinite;\n",
              "  }\n",
              "\n",
              "  @keyframes spin {\n",
              "    0% {\n",
              "      border-color: transparent;\n",
              "      border-bottom-color: var(--fill-color);\n",
              "      border-left-color: var(--fill-color);\n",
              "    }\n",
              "    20% {\n",
              "      border-color: transparent;\n",
              "      border-left-color: var(--fill-color);\n",
              "      border-top-color: var(--fill-color);\n",
              "    }\n",
              "    30% {\n",
              "      border-color: transparent;\n",
              "      border-left-color: var(--fill-color);\n",
              "      border-top-color: var(--fill-color);\n",
              "      border-right-color: var(--fill-color);\n",
              "    }\n",
              "    40% {\n",
              "      border-color: transparent;\n",
              "      border-right-color: var(--fill-color);\n",
              "      border-top-color: var(--fill-color);\n",
              "    }\n",
              "    60% {\n",
              "      border-color: transparent;\n",
              "      border-right-color: var(--fill-color);\n",
              "    }\n",
              "    80% {\n",
              "      border-color: transparent;\n",
              "      border-right-color: var(--fill-color);\n",
              "      border-bottom-color: var(--fill-color);\n",
              "    }\n",
              "    90% {\n",
              "      border-color: transparent;\n",
              "      border-bottom-color: var(--fill-color);\n",
              "    }\n",
              "  }\n",
              "</style>\n",
              "\n",
              "  <script>\n",
              "    async function quickchart(key) {\n",
              "      const quickchartButtonEl =\n",
              "        document.querySelector('#' + key + ' button');\n",
              "      quickchartButtonEl.disabled = true;  // To prevent multiple clicks.\n",
              "      quickchartButtonEl.classList.add('colab-df-spinner');\n",
              "      try {\n",
              "        const charts = await google.colab.kernel.invokeFunction(\n",
              "            'suggestCharts', [key], {});\n",
              "      } catch (error) {\n",
              "        console.error('Error during call to suggestCharts:', error);\n",
              "      }\n",
              "      quickchartButtonEl.classList.remove('colab-df-spinner');\n",
              "      quickchartButtonEl.classList.add('colab-df-quickchart-complete');\n",
              "    }\n",
              "    (() => {\n",
              "      let quickchartButtonEl =\n",
              "        document.querySelector('#df-7443cbbe-d14d-4489-9dc1-8b5ad5385fc3 button');\n",
              "      quickchartButtonEl.style.display =\n",
              "        google.colab.kernel.accessAllowed ? 'block' : 'none';\n",
              "    })();\n",
              "  </script>\n",
              "</div>\n",
              "\n",
              "  <div id=\"id_8643bc95-88c2-4b7e-839a-f6b887ca4d8a\">\n",
              "    <style>\n",
              "      .colab-df-generate {\n",
              "        background-color: #E8F0FE;\n",
              "        border: none;\n",
              "        border-radius: 50%;\n",
              "        cursor: pointer;\n",
              "        display: none;\n",
              "        fill: #1967D2;\n",
              "        height: 32px;\n",
              "        padding: 0 0 0 0;\n",
              "        width: 32px;\n",
              "      }\n",
              "\n",
              "      .colab-df-generate:hover {\n",
              "        background-color: #E2EBFA;\n",
              "        box-shadow: 0px 1px 2px rgba(60, 64, 67, 0.3), 0px 1px 3px 1px rgba(60, 64, 67, 0.15);\n",
              "        fill: #174EA6;\n",
              "      }\n",
              "\n",
              "      [theme=dark] .colab-df-generate {\n",
              "        background-color: #3B4455;\n",
              "        fill: #D2E3FC;\n",
              "      }\n",
              "\n",
              "      [theme=dark] .colab-df-generate:hover {\n",
              "        background-color: #434B5C;\n",
              "        box-shadow: 0px 1px 3px 1px rgba(0, 0, 0, 0.15);\n",
              "        filter: drop-shadow(0px 1px 2px rgba(0, 0, 0, 0.3));\n",
              "        fill: #FFFFFF;\n",
              "      }\n",
              "    </style>\n",
              "    <button class=\"colab-df-generate\" onclick=\"generateWithVariable('df')\"\n",
              "            title=\"Generate code using this dataframe.\"\n",
              "            style=\"display:none;\">\n",
              "\n",
              "  <svg xmlns=\"http://www.w3.org/2000/svg\" height=\"24px\"viewBox=\"0 0 24 24\"\n",
              "       width=\"24px\">\n",
              "    <path d=\"M7,19H8.4L18.45,9,17,7.55,7,17.6ZM5,21V16.75L18.45,3.32a2,2,0,0,1,2.83,0l1.4,1.43a1.91,1.91,0,0,1,.58,1.4,1.91,1.91,0,0,1-.58,1.4L9.25,21ZM18.45,9,17,7.55Zm-12,3A5.31,5.31,0,0,0,4.9,8.1,5.31,5.31,0,0,0,1,6.5,5.31,5.31,0,0,0,4.9,4.9,5.31,5.31,0,0,0,6.5,1,5.31,5.31,0,0,0,8.1,4.9,5.31,5.31,0,0,0,12,6.5,5.46,5.46,0,0,0,6.5,12Z\"/>\n",
              "  </svg>\n",
              "    </button>\n",
              "    <script>\n",
              "      (() => {\n",
              "      const buttonEl =\n",
              "        document.querySelector('#id_8643bc95-88c2-4b7e-839a-f6b887ca4d8a button.colab-df-generate');\n",
              "      buttonEl.style.display =\n",
              "        google.colab.kernel.accessAllowed ? 'block' : 'none';\n",
              "\n",
              "      buttonEl.onclick = () => {\n",
              "        google.colab.notebook.generateWithVariable('df');\n",
              "      }\n",
              "      })();\n",
              "    </script>\n",
              "  </div>\n",
              "\n",
              "    </div>\n",
              "  </div>\n"
            ],
            "application/vnd.google.colaboratory.intrinsic+json": {
              "type": "dataframe",
              "variable_name": "df",
              "repr_error": "'str' object has no attribute 'empty'"
            }
          },
          "metadata": {},
          "execution_count": 17
        }
      ]
    },
    {
      "cell_type": "code",
      "source": [
        "# extract the text column\n",
        "df_text = df.text\n",
        "df_text"
      ],
      "metadata": {
        "colab": {
          "base_uri": "https://localhost:8080/"
        },
        "id": "pVg_9OBQoPHZ",
        "outputId": "8aa46e4a-2989-4c2b-d616-3b39a5f03d57"
      },
      "execution_count": 21,
      "outputs": [
        {
          "output_type": "execute_result",
          "data": {
            "text/plain": [
              "0     @AppleSupport causing the reply to be disregar...\n",
              "1     @105835 Your business means a lot to us. Pleas...\n",
              "2     @76328 I really hope you all change but I'm su...\n",
              "3     @105836 LiveChat is online at the moment - htt...\n",
              "4     @VirginTrains see attached error message. I've...\n",
              "                            ...                        \n",
              "88    @105860 I wish Amazon had an option of where I...\n",
              "89    They reschedule my shit for tomorrow https://t...\n",
              "90    @105861 Hey Sara, sorry to hear of the issues ...\n",
              "91    @Tesco bit of both - finding the layout cumber...\n",
              "92    @105861 If that doesn't help please DM your fu...\n",
              "Name: text, Length: 93, dtype: object"
            ]
          },
          "metadata": {},
          "execution_count": 21
        }
      ]
    },
    {
      "cell_type": "markdown",
      "source": [
        "**Nettoyage des données :**"
      ],
      "metadata": {
        "id": "VepUyJBhrDX9"
      }
    },
    {
      "cell_type": "markdown",
      "source": [
        "**Les imports**"
      ],
      "metadata": {
        "id": "DZXJYjqtzqOe"
      }
    },
    {
      "cell_type": "code",
      "source": [
        "import pandas as pd\n",
        "import re\n",
        "import nltk\n",
        "from nltk.tokenize import word_tokenize\n",
        "from nltk.corpus import stopwords\n",
        "from nltk.stem import PorterStemmer, WordNetLemmatizer\n",
        "from tabulate import tabulate\n",
        "import numpy as np\n",
        "import matplotlib.pyplot as plt\n",
        "import re\n",
        "nltk.download('punkt')\n",
        "nltk.download('stopwords')\n",
        "nltk.download('wordnet')"
      ],
      "metadata": {
        "colab": {
          "base_uri": "https://localhost:8080/"
        },
        "id": "JkKWrS9BvBfw",
        "outputId": "d8820538-766d-4aff-eea1-d6ad86fe745b"
      },
      "execution_count": 25,
      "outputs": [
        {
          "output_type": "stream",
          "name": "stderr",
          "text": [
            "[nltk_data] Downloading package punkt to /root/nltk_data...\n",
            "[nltk_data]   Package punkt is already up-to-date!\n",
            "[nltk_data] Downloading package stopwords to /root/nltk_data...\n",
            "[nltk_data]   Package stopwords is already up-to-date!\n",
            "[nltk_data] Downloading package wordnet to /root/nltk_data...\n",
            "[nltk_data]   Package wordnet is already up-to-date!\n"
          ]
        },
        {
          "output_type": "execute_result",
          "data": {
            "text/plain": [
              "True"
            ]
          },
          "metadata": {},
          "execution_count": 25
        }
      ]
    },
    {
      "cell_type": "markdown",
      "source": [
        "**# Fonction de nettoyage des données**"
      ],
      "metadata": {
        "id": "Gs39AHENzwR_"
      }
    },
    {
      "cell_type": "code",
      "source": [
        "\n",
        "def clean_text(text):\n",
        "    # Mise en minuscules\n",
        "    text = text.lower()\n",
        "    # Suppression des ponctuations\n",
        "    text = re.sub(r'[^\\w\\s]', '', text)\n",
        "    # Suppression des mots vides (stopwords)\n",
        "    stop_words = set(stopwords.words('english'))\n",
        "    word_tokens = word_tokenize(text)\n",
        "    text = ' '.join([word for word in word_tokens if word not in stop_words])\n",
        "    # Stemming\n",
        "    stemmer = PorterStemmer()\n",
        "    text = ' '.join([stemmer.stem(word) for word in word_tokens])\n",
        "    # Lemmatisation\n",
        "    lemmatizer = WordNetLemmatizer()\n",
        "    text = ' '.join([lemmatizer.lemmatize(word) for word in word_tokens])\n",
        "    # Suppression des émojis, émoticônes, URL, balises HTML (pattern pour émojis et émoticônes)\n",
        "    text = re.sub(r':\\)|:|:-|;-\\)|:-/|:-\\|', '', text)\n",
        "    text = re.sub(r'http\\S+', '', text)\n",
        "    text = re.sub(r'<.*?>', '', text)\n",
        "    return text\n",
        "\n"
      ],
      "metadata": {
        "id": "wE2hflsnuL6u"
      },
      "execution_count": 26,
      "outputs": []
    },
    {
      "cell_type": "markdown",
      "source": [
        "**# Application de la fonction de nettoyage**"
      ],
      "metadata": {
        "id": "SJ3qFUu1z_Vz"
      }
    },
    {
      "cell_type": "code",
      "source": [
        "df['text_cleaned'] = df['text'].apply(clean_text)"
      ],
      "metadata": {
        "id": "MuvAANrC0IVY"
      },
      "execution_count": 27,
      "outputs": []
    },
    {
      "cell_type": "markdown",
      "source": [
        "**# Sélectionner les colonnes tweet_id, text et text_cleaned**"
      ],
      "metadata": {
        "id": "GwlFN4-S0iPn"
      }
    },
    {
      "cell_type": "code",
      "source": [
        "df_selected = df[['tweet_id', 'text', 'text_cleaned']]"
      ],
      "metadata": {
        "id": "qnEunfbW0lNT"
      },
      "execution_count": 28,
      "outputs": []
    },
    {
      "cell_type": "markdown",
      "source": [
        "**# Convertir le DataFrame en une liste de listes pour l'affichage sous forme de tableau**"
      ],
      "metadata": {
        "id": "ja44eGqF0uEn"
      }
    },
    {
      "cell_type": "code",
      "source": [
        "data = df_selected.values.tolist()"
      ],
      "metadata": {
        "id": "S6mI31jG0xMH"
      },
      "execution_count": 29,
      "outputs": []
    },
    {
      "cell_type": "markdown",
      "source": [
        "**# Afficher les données sous forme de tableau avec les colonnes adjacentes**"
      ],
      "metadata": {
        "id": "MqMMNEWB05-l"
      }
    },
    {
      "cell_type": "code",
      "source": [
        "\n",
        "print(tabulate(data, headers=['tweet_id', 'text', 'text_cleaned'], tablefmt='grid'))"
      ],
      "metadata": {
        "colab": {
          "base_uri": "https://localhost:8080/"
        },
        "id": "hIJJzmlt09qm",
        "outputId": "af2217c6-9321-4bbc-b167-6747be7ee3d7"
      },
      "execution_count": 30,
      "outputs": [
        {
          "output_type": "stream",
          "name": "stdout",
          "text": [
            "+------------+----------------------------------------------------------------------------------------------------------------------------------------------------------------------------+-------------------------------------------------------------------------------------------------------------------------------------------------+\n",
            "|   tweet_id | text                                                                                                                                                                       | text_cleaned                                                                                                                                    |\n",
            "+============+============================================================================================================================================================================+=================================================================================================================================================+\n",
            "|     119237 | @AppleSupport causing the reply to be disregarded and the tapped notification under the keyboard is opened😡😡😡                                                           | applesupport causing the reply to be disregarded and the tapped notification under the keyboard is opened                                       |\n",
            "+------------+----------------------------------------------------------------------------------------------------------------------------------------------------------------------------+-------------------------------------------------------------------------------------------------------------------------------------------------+\n",
            "|     119238 | @105835 Your business means a lot to us. Please DM your name, zip code and additional details about your concern. ^RR https://t.co/znUu1VJn9r                              | 105835 your business mean a lot to u please dm your name zip code and additional detail about your concern rr                                   |\n",
            "+------------+----------------------------------------------------------------------------------------------------------------------------------------------------------------------------+-------------------------------------------------------------------------------------------------------------------------------------------------+\n",
            "|     119239 | @76328 I really hope you all change but I'm sure you won't! Because you don't have to!                                                                                     | 76328 i really hope you all change but im sure you wont because you dont have to                                                                |\n",
            "+------------+----------------------------------------------------------------------------------------------------------------------------------------------------------------------------+-------------------------------------------------------------------------------------------------------------------------------------------------+\n",
            "|     119240 | @105836 LiveChat is online at the moment - https://t.co/SY94VtU8Kq or contact 03331 031 031 option 1, 4, 3 (Leave a message) to request a call back                        | 105836 livechat is online at the moment  or contact 03331 031 031 option 1 4 3 leave a message to request a call back                           |\n",
            "+------------+----------------------------------------------------------------------------------------------------------------------------------------------------------------------------+-------------------------------------------------------------------------------------------------------------------------------------------------+\n",
            "|     119241 | @VirginTrains see attached error message. I've tried leaving a voicemail several times in the past week https://t.co/NxVZjlYx1k                                            | virgintrains see attached error message ive tried leaving a voicemail several time in the past week                                             |\n",
            "+------------+----------------------------------------------------------------------------------------------------------------------------------------------------------------------------+-------------------------------------------------------------------------------------------------------------------------------------------------+\n",
            "|     119243 | @105836 Have you tried from another device, Miriam ^MM                                                                                                                     | 105836 have you tried from another device miriam mm                                                                                             |\n",
            "+------------+----------------------------------------------------------------------------------------------------------------------------------------------------------------------------+-------------------------------------------------------------------------------------------------------------------------------------------------+\n",
            "|     119244 | @VirginTrains yep, I've tried laptop too several times over the past week and again today. I've tried different browsers too                                               | virgintrains yep ive tried laptop too several time over the past week and again today ive tried different browser too                           |\n",
            "+------------+----------------------------------------------------------------------------------------------------------------------------------------------------------------------------+-------------------------------------------------------------------------------------------------------------------------------------------------+\n",
            "|     119245 | @105836 It's working OK from here, Miriam. Does this link help https://t.co/0m2mpH15eh ? ^MM                                                                               | 105836 it working ok from here miriam doe this link help  mm                                                                                    |\n",
            "+------------+----------------------------------------------------------------------------------------------------------------------------------------------------------------------------+-------------------------------------------------------------------------------------------------------------------------------------------------+\n",
            "|     119242 | @VirginTrains I still haven't heard &amp; the number I'm directed to by phone is a dead end &amp; the live chat doesn't work. Can someone call me?                         | virgintrains i still havent heard amp the number im directed to by phone is a dead end amp the live chat doesnt work can someone call me        |\n",
            "+------------+----------------------------------------------------------------------------------------------------------------------------------------------------------------------------+-------------------------------------------------------------------------------------------------------------------------------------------------+\n",
            "|     119246 | @105836 That's what we're here for Miriam 😊  The team should send you an email shortly ^HP                                                                                | 105836 thats what were here for miriam the team should send you an email shortly hp                                                             |\n",
            "+------------+----------------------------------------------------------------------------------------------------------------------------------------------------------------------------+-------------------------------------------------------------------------------------------------------------------------------------------------+\n",
            "|     119248 | @105837 We can help. Which version of iOS are you on? You can find that in Settings &gt; General &gt; About. Reply in DM. https://t.co/GDrqU22YpT                          | 105837 we can help which version of io are you on you can find that in setting gt general gt about reply in dm                                  |\n",
            "+------------+----------------------------------------------------------------------------------------------------------------------------------------------------------------------------+-------------------------------------------------------------------------------------------------------------------------------------------------+\n",
            "|     119249 | @105838 @AppleSupport Me too am suffering , hope the can find a solution                                                                                                   | 105838 applesupport me too am suffering hope the can find a solution                                                                            |\n",
            "+------------+----------------------------------------------------------------------------------------------------------------------------------------------------------------------------+-------------------------------------------------------------------------------------------------------------------------------------------------+\n",
            "|     119250 | @AppleSupport hi #apple, I’ve a concern about the latest ios is too slow on #iphone6 and i am not happy with it. Any solution please?                                      | applesupport hi apple ive a concern about the latest io is too slow on iphone6 and i am not happy with it any solution please                   |\n",
            "+------------+----------------------------------------------------------------------------------------------------------------------------------------------------------------------------+-------------------------------------------------------------------------------------------------------------------------------------------------+\n",
            "|     119252 | @105839 Thanks for reaching out to us. We are always happy to help. Send us a DM so we can look into this together. https://t.co/GDrqU22YpT                                | 105839 thanks for reaching out to u we are always happy to help send u a dm so we can look into this together                                   |\n",
            "+------------+----------------------------------------------------------------------------------------------------------------------------------------------------------------------------+-------------------------------------------------------------------------------------------------------------------------------------------------+\n",
            "|     119253 | I just updated my phone and suddenly everything takes ages to load wtf @76099 this update sux I hate it fix it bye                                                         | i just updated my phone and suddenly everything take age to load wtf 76099 this update sux i hate it fix it bye                                 |\n",
            "+------------+----------------------------------------------------------------------------------------------------------------------------------------------------------------------------+-------------------------------------------------------------------------------------------------------------------------------------------------+\n",
            "|     119254 | @105840 Hi there! What device is this happening on? If you could also let us know the Android and Spotify versions you're using, that'd be great /AY                       | 105840 hi there what device is this happening on if you could also let u know the android and spotify version youre using thatd be great ay     |\n",
            "+------------+----------------------------------------------------------------------------------------------------------------------------------------------------------------------------+-------------------------------------------------------------------------------------------------------------------------------------------------+\n",
            "|     119255 | @SpotifyCares Thanks! Version 8.4.22.857 armv7 on anker bluetooth speaker on Samsung Galaxy Tab A (2016) Model SM-T280 Does distance from speaker matter?                  | spotifycares thanks version 8422857 armv7 on anker bluetooth speaker on samsung galaxy tab a 2016 model smt280 doe distance from speaker matter |\n",
            "+------------+----------------------------------------------------------------------------------------------------------------------------------------------------------------------------+-------------------------------------------------------------------------------------------------------------------------------------------------+\n",
            "|     119257 | @105840 Thanks. The distance could possibly affect playback. Does logging out &gt; restarting your device &gt; logging back in make a difference? /AY                      | 105840 thanks the distance could possibly affect playback doe logging out gt restarting your device gt logging back in make a difference ay     |\n",
            "+------------+----------------------------------------------------------------------------------------------------------------------------------------------------------------------------+-------------------------------------------------------------------------------------------------------------------------------------------------+\n",
            "|     119258 | @SpotifyCares No, but I've moved speaker to about 1 metre away and it's not skipping at the mo - it was about 3 or 4 metres away before. Fingers crossed!                  | spotifycares no but ive moved speaker to about 1 metre away and it not skipping at the mo it wa about 3 or 4 metre away before finger crossed   |\n",
            "+------------+----------------------------------------------------------------------------------------------------------------------------------------------------------------------------+-------------------------------------------------------------------------------------------------------------------------------------------------+\n",
            "|     119259 | @105840 That's great to hear. If anything comes up, just let us know. We'll carry on helping out 🙂 /AY                                                                    | 105840 thats great to hear if anything come up just let u know well carry on helping out ay                                                     |\n",
            "+------------+----------------------------------------------------------------------------------------------------------------------------------------------------------------------------+-------------------------------------------------------------------------------------------------------------------------------------------------+\n",
            "|     119260 | @SpotifyCares Brilliant thanks 😊                                                                                                                                          | spotifycares brilliant thanks                                                                                                                   |\n",
            "+------------+----------------------------------------------------------------------------------------------------------------------------------------------------------------------------+-------------------------------------------------------------------------------------------------------------------------------------------------+\n",
            "|     119261 | @105840 You're welcome! If there's anything else we can help with, just give us a shout. We're here for you 😉 /CP                                                         | 105840 youre welcome if there anything else we can help with just give u a shout were here for you cp                                           |\n",
            "+------------+----------------------------------------------------------------------------------------------------------------------------------------------------------------------------+-------------------------------------------------------------------------------------------------------------------------------------------------+\n",
            "|     119256 | @76495 @91226 Please help! Spotify Premium skipping through songs constantly on android tablet &amp; bluetooth speaker. Tried everything!                                  | 76495 91226 please help spotify premium skipping through song constantly on android tablet amp bluetooth speaker tried everything               |\n",
            "+------------+----------------------------------------------------------------------------------------------------------------------------------------------------------------------------+-------------------------------------------------------------------------------------------------------------------------------------------------+\n",
            "|     119262 | @105841 We'd love to help! Please DM us and let us know any steps you've tried since experiencing these behaviors. https://t.co/GDrqU22YpT                                 | 105841 wed love to help please dm u and let u know any step youve tried since experiencing these behavior                                       |\n",
            "+------------+----------------------------------------------------------------------------------------------------------------------------------------------------------------------------+-------------------------------------------------------------------------------------------------------------------------------------------------+\n",
            "|     119263 | @AppleSupport after the 11.0.2 my phone just sucks most of the apps are broken, wifi disconnects frequently #apple #ios1102 #painfulupdate                                 | applesupport after the 1102 my phone just suck most of the apps are broken wifi disconnect frequently apple ios1102 painfulupdate               |\n",
            "+------------+----------------------------------------------------------------------------------------------------------------------------------------------------------------------------+-------------------------------------------------------------------------------------------------------------------------------------------------+\n",
            "|     119264 | @105842 We're sorry your flight has been delayed, Beatner. Are you travelling on the BA8733? If so, the updated departure time we have is 15:30. 1/2                       | 105842 were sorry your flight ha been delayed beatner are you travelling on the ba8733 if so the updated departure time we have is 1530 12      |\n",
            "+------------+----------------------------------------------------------------------------------------------------------------------------------------------------------------------------+-------------------------------------------------------------------------------------------------------------------------------------------------+\n",
            "|     119265 | First flight for long time with @British_Airways. Now over one 1h delay for the short jump FRA-LCY and NO one here to provide status updates                               | first flight for long time with british_airways now over one 1h delay for the short jump fralcy and no one here to provide status update        |\n",
            "+------------+----------------------------------------------------------------------------------------------------------------------------------------------------------------------------+-------------------------------------------------------------------------------------------------------------------------------------------------+\n",
            "|     119267 | @105843 Battery life is important, and we're here for you. DM us the iOS version your iPhone is running. We'll go from there. https://t.co/GDrqU22YpT                      | 105843 battery life is important and were here for you dm u the io version your iphone is running well go from there                            |\n",
            "+------------+----------------------------------------------------------------------------------------------------------------------------------------------------------------------------+-------------------------------------------------------------------------------------------------------------------------------------------------+\n",
            "|     119268 | Okay @76099 I used my fucking phone for 2 minutes and it drains it down 8 fucking percent                                                                                  | okay 76099 i used my fucking phone for 2 minute and it drain it down 8 fucking percent                                                          |\n",
            "+------------+----------------------------------------------------------------------------------------------------------------------------------------------------------------------------+-------------------------------------------------------------------------------------------------------------------------------------------------+\n",
            "|     119269 | @105844 Thanks for reaching out to us. We are always happy to help. Send us a DM so we can look into this together. https://t.co/GDrqU22YpT                                | 105844 thanks for reaching out to u we are always happy to help send u a dm so we can look into this together                                   |\n",
            "+------------+----------------------------------------------------------------------------------------------------------------------------------------------------------------------------+-------------------------------------------------------------------------------------------------------------------------------------------------+\n",
            "|     119270 | @AppleSupport Can you get my iPhone 7plus back on the old iOS please?  Battery runs out in half the time, apps now frequently crash.                                       | applesupport can you get my iphone 7plus back on the old io please battery run out in half the time apps now frequently crash                   |\n",
            "+------------+----------------------------------------------------------------------------------------------------------------------------------------------------------------------------+-------------------------------------------------------------------------------------------------------------------------------------------------+\n",
            "|     119271 | @105844 We'd be happy to help. Send us a DM and we can start there. https://t.co/GDrqU22YpT                                                                                | 105844 wed be happy to help send u a dm and we can start there                                                                                  |\n",
            "+------------+----------------------------------------------------------------------------------------------------------------------------------------------------------------------------+-------------------------------------------------------------------------------------------------------------------------------------------------+\n",
            "|     119272 | You’ve paralysed my phone with your update @76099 grrrrrrrrrr                                                                                                              | youve paralysed my phone with your update 76099 grrrrrrrrrr                                                                                     |\n",
            "+------------+----------------------------------------------------------------------------------------------------------------------------------------------------------------------------+-------------------------------------------------------------------------------------------------------------------------------------------------+\n",
            "|     119273 | @82476 🤔 We'd like to help Sam, which number is calling you? Please DM us more info so we can advise further. https://t.co/5pyLDJBC6r                                     | 82476 wed like to help sam which number is calling you please dm u more info so we can advise further                                           |\n",
            "+------------+----------------------------------------------------------------------------------------------------------------------------------------------------------------------------+-------------------------------------------------------------------------------------------------------------------------------------------------+\n",
            "|     119274 | @O2 I received this a few weeks ago, since then I've been getting 2/3 calls a day from a telemarketer. Is someone using your name? https://t.co/GLtz4XHcex                 | o2 i received this a few week ago since then ive been getting 23 call a day from a telemarketer is someone using your name                      |\n",
            "+------------+----------------------------------------------------------------------------------------------------------------------------------------------------------------------------+-------------------------------------------------------------------------------------------------------------------------------------------------+\n",
            "|     119275 | @105845 I understand this is a frustrating experience, please send a DM with your account information so I can look into this matter for you. -AD                          | 105845 i understand this is a frustrating experience please send a dm with your account information so i can look into this matter for you ad   |\n",
            "+------------+----------------------------------------------------------------------------------------------------------------------------------------------------------------------------+-------------------------------------------------------------------------------------------------------------------------------------------------+\n",
            "|     119276 | My internet is down and xfinity talkin about 24-72 hours... y’all have the game messed up.                                                                                 | my internet is down and xfinity talkin about 2472 hour yall have the game messed up 77245                                                       |\n",
            "|            |                                                                                                                                                                            |                                                                                                                                                 |\n",
            "|            | @77245                                                                                                                                                                     |                                                                                                                                                 |\n",
            "+------------+----------------------------------------------------------------------------------------------------------------------------------------------------------------------------+-------------------------------------------------------------------------------------------------------------------------------------------------+\n",
            "|     119277 | @105676 I understand how you frustrated this situation can be. Please follow us by sending a DM for further assistance. Sprint Cares. -AC                                  | 105676 i understand how you frustrated this situation can be please follow u by sending a dm for further assistance sprint care ac              |\n",
            "+------------+----------------------------------------------------------------------------------------------------------------------------------------------------------------------------+-------------------------------------------------------------------------------------------------------------------------------------------------+\n",
            "|     119278 | @76803  I service last 40 min sprint can I get a refund https://t.co/wYPw9hP6wt                                                                                            | 76803 i service last 40 min sprint can i get a refund                                                                                           |\n",
            "+------------+----------------------------------------------------------------------------------------------------------------------------------------------------------------------------+-------------------------------------------------------------------------------------------------------------------------------------------------+\n",
            "|     119279 | @105846 We'd like to help. What happens when you try to listen to Apple Music &amp; use WhatsApp? Does the music pause? Let us know in DM. https://t.co/GDrqU22YpT         | 105846 wed like to help what happens when you try to listen to apple music amp use whatsapp doe the music pause let u know in dm                |\n",
            "+------------+----------------------------------------------------------------------------------------------------------------------------------------------------------------------------+-------------------------------------------------------------------------------------------------------------------------------------------------+\n",
            "|     119280 | So the new @76099 update does not let me listen to music and go on whatsapp at the same time?!?                                                                            | so the new 76099 update doe not let me listen to music and go on whatsapp at the same time                                                      |\n",
            "+------------+----------------------------------------------------------------------------------------------------------------------------------------------------------------------------+-------------------------------------------------------------------------------------------------------------------------------------------------+\n",
            "|     119281 | @105847 Hi Harry! Help's here. Can you check if logging out &gt; restarting your device &gt; logging back in makes a difference? Keep us posted /MU                        | 105847 hi harry help here can you check if logging out gt restarting your device gt logging back in make a difference keep u posted mu          |\n",
            "+------------+----------------------------------------------------------------------------------------------------------------------------------------------------------------------------+-------------------------------------------------------------------------------------------------------------------------------------------------+\n",
            "|     119282 | @SpotifyCares seems to be working at this stage. Will let you know if it happens again. Cheers                                                                             | spotifycares seems to be working at this stage will let you know if it happens again cheer                                                      |\n",
            "+------------+----------------------------------------------------------------------------------------------------------------------------------------------------------------------------+-------------------------------------------------------------------------------------------------------------------------------------------------+\n",
            "|     119284 | @105847 Sure thing. We'll keep an eye out for your update /MU                                                                                                              | 105847 sure thing well keep an eye out for your update mu                                                                                       |\n",
            "+------------+----------------------------------------------------------------------------------------------------------------------------------------------------------------------------+-------------------------------------------------------------------------------------------------------------------------------------------------+\n",
            "|     119285 | @SpotifyCares problem has come back again today. is there some kind of bug?                                                                                                | spotifycares problem ha come back again today is there some kind of bug                                                                         |\n",
            "+------------+----------------------------------------------------------------------------------------------------------------------------------------------------------------------------+-------------------------------------------------------------------------------------------------------------------------------------------------+\n",
            "|     119286 | @105847 Thanks for giving us a nudge about this. What device, operating system, and Spotify version is this happening on? /AY                                              | 105847 thanks for giving u a nudge about this what device operating system and spotify version is this happening on ay                          |\n",
            "+------------+----------------------------------------------------------------------------------------------------------------------------------------------------------------------------+-------------------------------------------------------------------------------------------------------------------------------------------------+\n",
            "|     119287 | @SpotifyCares It's on a Macbook Air (early 2014), running High Sierra, spotify version 1.0.65.320.gac7a8e02                                                                | spotifycares it on a macbook air early 2014 running high sierra spotify version 1065320gac7a8e02                                                |\n",
            "+------------+----------------------------------------------------------------------------------------------------------------------------------------------------------------------------+-------------------------------------------------------------------------------------------------------------------------------------------------+\n",
            "|     119288 | @105847 Got it. Can you try the steps here for us: https://t.co/EqisDMwZAT? They should help with this. Let us know how it plays out /AY                                   | 105847 got it can you try the step here for u  they should help with this let u know how it play out ay                                         |\n",
            "+------------+----------------------------------------------------------------------------------------------------------------------------------------------------------------------------+-------------------------------------------------------------------------------------------------------------------------------------------------+\n",
            "|     119283 | @SpotifyCares i've been having issues with playback. songs have been stopping midway through and won't restart unless i close and reopen app                               | spotifycares ive been having issue with playback song have been stopping midway through and wont restart unless i close and reopen app          |\n",
            "+------------+----------------------------------------------------------------------------------------------------------------------------------------------------------------------------+-------------------------------------------------------------------------------------------------------------------------------------------------+\n",
            "|     119289 | @105848 Let's take a look. What is the exact iOS you're using? Are you using any specific apps when noticing this? DM us your reply. https://t.co/GDrqU22YpT               | 105848 let take a look what is the exact io youre using are you using any specific apps when noticing this dm u your reply                      |\n",
            "+------------+----------------------------------------------------------------------------------------------------------------------------------------------------------------------------+-------------------------------------------------------------------------------------------------------------------------------------------------+\n",
            "|     119290 | @AppleSupport Latest version 😡😡 I have read the help page turned off virtually all apps and location svs too - but in typing this I dropped 3% life                      | applesupport latest version i have read the help page turned off virtually all apps and location svs too but in typing this i dropped 3 life    |\n",
            "+------------+----------------------------------------------------------------------------------------------------------------------------------------------------------------------------+-------------------------------------------------------------------------------------------------------------------------------------------------+\n",
            "|     119291 | @AppleSupport Super help - problem solved 😀 once again in love with Apple                                                                                                 | applesupport super help problem solved once again in love with apple                                                                            |\n",
            "+------------+----------------------------------------------------------------------------------------------------------------------------------------------------------------------------+-------------------------------------------------------------------------------------------------------------------------------------------------+\n",
            "|     119292 | @AppleSupport #ios11update - is still killing my battery within 12 hours - phone is 10 months old - it’s a disgrace - used to get 2 days                                   | applesupport ios11update is still killing my battery within 12 hour phone is 10 month old it a disgrace used to get 2 day                       |\n",
            "+------------+----------------------------------------------------------------------------------------------------------------------------------------------------------------------------+-------------------------------------------------------------------------------------------------------------------------------------------------+\n",
            "|     119293 | @105849 Thanks for reaching out to us. We are always happy to help. Send us a DM so we can look into this together. https://t.co/GDrqU22YpT                                | 105849 thanks for reaching out to u we are always happy to help send u a dm so we can look into this together                                   |\n",
            "+------------+----------------------------------------------------------------------------------------------------------------------------------------------------------------------------+-------------------------------------------------------------------------------------------------------------------------------------------------+\n",
            "|     119294 | Took my phone off charge at 7:20am.                                                                                                                                        | took my phone off charge at 720am 803am 60 battery remaining 76099 plz i beg you sort your battery life out                                     |\n",
            "|            |                                                                                                                                                                            |                                                                                                                                                 |\n",
            "|            | 8:03am - 60% battery remaining.                                                                                                                                            |                                                                                                                                                 |\n",
            "|            |                                                                                                                                                                            |                                                                                                                                                 |\n",
            "|            | @76099 plz I beg you, sort your battery life out😩                                                                                                                         |                                                                                                                                                 |\n",
            "+------------+----------------------------------------------------------------------------------------------------------------------------------------------------------------------------+-------------------------------------------------------------------------------------------------------------------------------------------------+\n",
            "|     119295 | @105850 Once the points load and you hit the number, you get it immediately! You'll even receive a congrats email. Are you almost there? ^AC                               | 105850 once the point load and you hit the number you get it immediately youll even receive a congrats email are you almost there ac            |\n",
            "+------------+----------------------------------------------------------------------------------------------------------------------------------------------------------------------------+-------------------------------------------------------------------------------------------------------------------------------------------------+\n",
            "|     119296 | @SouthwestAir I am! Thank you for the answer!!                                                                                                                             | southwestair i am thank you for the answer                                                                                                      |\n",
            "+------------+----------------------------------------------------------------------------------------------------------------------------------------------------------------------------+-------------------------------------------------------------------------------------------------------------------------------------------------+\n",
            "|     119297 | @southwestair Just curious....will I get the companion pass the exact moment I get enough points? It will I have to wait? Thanks!                                          | southwestair just curiouswill i get the companion pas the exact moment i get enough point it will i have to wait thanks                         |\n",
            "+------------+----------------------------------------------------------------------------------------------------------------------------------------------------------------------------+-------------------------------------------------------------------------------------------------------------------------------------------------+\n",
            "|     119298 | @105851 We'd like to provide some assistance with this. Tell us more about the issue you're experiencing in DM. We'll go from there. https://t.co/GDrqU22YpT               | 105851 wed like to provide some assistance with this tell u more about the issue youre experiencing in dm well go from there                    |\n",
            "+------------+----------------------------------------------------------------------------------------------------------------------------------------------------------------------------+-------------------------------------------------------------------------------------------------------------------------------------------------+\n",
            "|     119299 | @AppleSupport I need a new code for my I-store. I haven’t recd any but msg is too many sent. Help!                                                                         | applesupport i need a new code for my istore i havent recd any but msg is too many sent help                                                    |\n",
            "+------------+----------------------------------------------------------------------------------------------------------------------------------------------------------------------------+-------------------------------------------------------------------------------------------------------------------------------------------------+\n",
            "|     119300 | @105852 Are you experiencing an issue with your device? If so, DM us with what's going on. We'll see how we can help from there. https://t.co/GDrqU22YpT                   | 105852 are you experiencing an issue with your device if so dm u with whats going on well see how we can help from there                        |\n",
            "+------------+----------------------------------------------------------------------------------------------------------------------------------------------------------------------------+-------------------------------------------------------------------------------------------------------------------------------------------------+\n",
            "|     119301 | @76099 @AppleSupport fix this update. It’s horrible                                                                                                                        | 76099 applesupport fix this update it horrible                                                                                                  |\n",
            "+------------+----------------------------------------------------------------------------------------------------------------------------------------------------------------------------+-------------------------------------------------------------------------------------------------------------------------------------------------+\n",
            "|     119266 | @105842 I appreciate it's after 15:30 now, so hopefully you will depart very soon. We're sorry for any inconvenience the delay has caused. 2/2 ^JR                         | 105842 i appreciate it after 1530 now so hopefully you will depart very soon were sorry for any inconvenience the delay ha caused 22 jr         |\n",
            "+------------+----------------------------------------------------------------------------------------------------------------------------------------------------------------------------+-------------------------------------------------------------------------------------------------------------------------------------------------+\n",
            "|     119302 | @British_Airways Thanks for your answer. Response onsite was that Aircraft will not depart today, so rebooking to @105853 with now 4h delay...                             | british_airways thanks for your answer response onsite wa that aircraft will not depart today so rebooking to 105853 with now 4h delay          |\n",
            "+------------+----------------------------------------------------------------------------------------------------------------------------------------------------------------------------+-------------------------------------------------------------------------------------------------------------------------------------------------+\n",
            "|     119303 | @105842 Very sorry to hear this.  We hope you get everything sorted.   Kind Regards ^Jools                                                                                 | 105842 very sorry to hear this we hope you get everything sorted kind regard jools                                                              |\n",
            "+------------+----------------------------------------------------------------------------------------------------------------------------------------------------------------------------+-------------------------------------------------------------------------------------------------------------------------------------------------+\n",
            "|     119304 | @105854 I am sorry for the poor experience. Can you please DM the full service address and name on the account, as we ass... https://t.co/JEZhqGdBMd                       | 105854 i am sorry for the poor experience can you please dm the full service address and name on the account a we as                            |\n",
            "+------------+----------------------------------------------------------------------------------------------------------------------------------------------------------------------------+-------------------------------------------------------------------------------------------------------------------------------------------------+\n",
            "|     119305 | @Ask_Spectrum It's just in my yard. I've called 4-5 times in 6 weeks. I'm not a customer but it's pretty tempting. I do have some coaxial                                  | ask_spectrum it just in my yard ive called 45 time in 6 week im not a customer but it pretty tempting i do have some coaxial                    |\n",
            "+------------+----------------------------------------------------------------------------------------------------------------------------------------------------------------------------+-------------------------------------------------------------------------------------------------------------------------------------------------+\n",
            "|     119306 | @76501 I guess this means free cable for the neighborhood. https://t.co/FBgEE9YXPm                                                                                         | 76501 i guess this mean free cable for the neighborhood                                                                                         |\n",
            "+------------+----------------------------------------------------------------------------------------------------------------------------------------------------------------------------+-------------------------------------------------------------------------------------------------------------------------------------------------+\n",
            "|     119308 | @105855 Hi Thomas, if a colleague believes the person buying alcohol looks under 25, they will be challenged for ID to prove they're of age. - Paige                       | 105855 hi thomas if a colleague belief the person buying alcohol look under 25 they will be challenged for id to prove theyre of age paige      |\n",
            "+------------+----------------------------------------------------------------------------------------------------------------------------------------------------------------------------+-------------------------------------------------------------------------------------------------------------------------------------------------+\n",
            "|     119309 | @Tesco Maybe hire colleagues who can see?                                                                                                                                  | tesco maybe hire colleague who can see                                                                                                          |\n",
            "+------------+----------------------------------------------------------------------------------------------------------------------------------------------------------------------------+-------------------------------------------------------------------------------------------------------------------------------------------------+\n",
            "|     119310 | @Tesco The point is if it's enforced they do it properly or they don't. Plus take some common-sense and think does that person look over 18?                               | tesco the point is if it enforced they do it properly or they dont plus take some commonsense and think doe that person look over 18            |\n",
            "+------------+----------------------------------------------------------------------------------------------------------------------------------------------------------------------------+-------------------------------------------------------------------------------------------------------------------------------------------------+\n",
            "|     119311 | @105855 Hi Thomas, this is correct but this helps our store colleagues judge age and protect them from making underage sales. Amanda                                       | 105855 hi thomas this is correct but this help our store colleague judge age and protect them from making underage sale amanda                  |\n",
            "+------------+----------------------------------------------------------------------------------------------------------------------------------------------------------------------------+-------------------------------------------------------------------------------------------------------------------------------------------------+\n",
            "|     119313 | @Tesco Uk offlicense law is 18. Not 25                                                                                                                                     | tesco uk offlicense law is 18 not 25                                                                                                            |\n",
            "+------------+----------------------------------------------------------------------------------------------------------------------------------------------------------------------------+-------------------------------------------------------------------------------------------------------------------------------------------------+\n",
            "|     119314 | @105855 Hi Thomas, we operate a Think 25 policy at our stores. I'd be flattered to be ID'd. :-) - Helena                                                                   | 105855 hi thomas we operate a think 25 policy at our store id be flattered to be idd helena                                                     |\n",
            "+------------+----------------------------------------------------------------------------------------------------------------------------------------------------------------------------+-------------------------------------------------------------------------------------------------------------------------------------------------+\n",
            "|     119315 | Got id's @Tesco for buying one Adnams Broadside. Is being blind part of the job-spec? I am 35 and 99 kilos.                                                                | got id tesco for buying one adnams broadside is being blind part of the jobspec i am 35 and 99 kilo                                             |\n",
            "+------------+----------------------------------------------------------------------------------------------------------------------------------------------------------------------------+-------------------------------------------------------------------------------------------------------------------------------------------------+\n",
            "|     119317 | @105856 Hi there, could you try deleting your cache and cookies and reinstalling the app if using it? This should fix the issue :) - Dani                                  | 105856 hi there could you try deleting your cache and cooky and reinstalling the app if using it this should fix the issue dani                 |\n",
            "+------------+----------------------------------------------------------------------------------------------------------------------------------------------------------------------------+-------------------------------------------------------------------------------------------------------------------------------------------------+\n",
            "|     119318 | @Tesco Will I lose all the shopping I've done if I delete the cache/cookies (not using app)?                                                                               | tesco will i lose all the shopping ive done if i delete the cachecookies not using app                                                          |\n",
            "+------------+----------------------------------------------------------------------------------------------------------------------------------------------------------------------------+-------------------------------------------------------------------------------------------------------------------------------------------------+\n",
            "|     119320 | @105856 Hi there, as long as you sign out of your account prior to deleting your cache &amp; cookies, you'll still have a full basket :) Thanks - Mike                     | 105856 hi there a long a you sign out of your account prior to deleting your cache amp cooky youll still have a full basket thanks mike         |\n",
            "+------------+----------------------------------------------------------------------------------------------------------------------------------------------------------------------------+-------------------------------------------------------------------------------------------------------------------------------------------------+\n",
            "|     119321 | @Tesco Done all that. Still telling me there are no delivery slots whatsoever.                                                                                             | tesco done all that still telling me there are no delivery slot whatsoever                                                                      |\n",
            "+------------+----------------------------------------------------------------------------------------------------------------------------------------------------------------------------+-------------------------------------------------------------------------------------------------------------------------------------------------+\n",
            "|     119322 | @105856 Can you DM me your full name, address and email? I'd be happy to look into this further for you :) Thanks - Mike                                                   | 105856 can you dm me your full name address and email id be happy to look into this further for you thanks mike                                 |\n",
            "+------------+----------------------------------------------------------------------------------------------------------------------------------------------------------------------------+-------------------------------------------------------------------------------------------------------------------------------------------------+\n",
            "|     119319 | Hey @Tesco, your website's broken. It's telling me there are no delivery slots for the next 3 weeks, which I find slightly unlikely.                                       | hey tesco your website broken it telling me there are no delivery slot for the next 3 week which i find slightly unlikely                       |\n",
            "+------------+----------------------------------------------------------------------------------------------------------------------------------------------------------------------------+-------------------------------------------------------------------------------------------------------------------------------------------------+\n",
            "|     119323 | @105857 Is there a particular app that seems to cause these issues more than others? What model iPhone are you using? Join us in DM. https://t.co/GDrqU22YpT               | 105857 is there a particular app that seems to cause these issue more than others what model iphone are you using join u in dm                  |\n",
            "+------------+----------------------------------------------------------------------------------------------------------------------------------------------------------------------------+-------------------------------------------------------------------------------------------------------------------------------------------------+\n",
            "|     119324 | @AppleSupport I have the latest version iOS. It started immediately after I updated my phone.                                                                              | applesupport i have the latest version io it started immediately after i updated my phone                                                       |\n",
            "+------------+----------------------------------------------------------------------------------------------------------------------------------------------------------------------------+-------------------------------------------------------------------------------------------------------------------------------------------------+\n",
            "|     119325 | @105857 We'd like to help if we can. When did this start happening? Which version of iOS are you running currently?                                                        | 105857 wed like to help if we can when did this start happening which version of io are you running currently                                   |\n",
            "+------------+----------------------------------------------------------------------------------------------------------------------------------------------------------------------------+-------------------------------------------------------------------------------------------------------------------------------------------------+\n",
            "|     119326 | My apps stop working without warning and my phone freezes every five minutes! Love the new update @76099!!!!                                                               | my apps stop working without warning and my phone freeze every five minute love the new update 76099                                            |\n",
            "+------------+----------------------------------------------------------------------------------------------------------------------------------------------------------------------------+-------------------------------------------------------------------------------------------------------------------------------------------------+\n",
            "|     119327 | @105858 Hi Agoura, thanks for tweeting. Please refer to this article: https://t.co/BSsgjZARTc &amp; click the link to reply back. ^Rashmi https://t.co/a2xkfCrUG1          | 105858 hi agoura thanks for tweeting please refer to this article  amp click the link to reply back rashmi                                      |\n",
            "+------------+----------------------------------------------------------------------------------------------------------------------------------------------------------------------------+-------------------------------------------------------------------------------------------------------------------------------------------------+\n",
            "|     119328 | @HPSupport Problem with printhead  Serial# TH536D1HN #hpcswus #hpprnt                                                                                                      | hpsupport problem with printhead serial th536d1hn hpcswus hpprnt                                                                                |\n",
            "+------------+----------------------------------------------------------------------------------------------------------------------------------------------------------------------------+-------------------------------------------------------------------------------------------------------------------------------------------------+\n",
            "|     119329 | @105859 UPS has a service called My Choice that will allow your packages to be delivered to UPS Store. ^ML  https://t.co/BPZKndqww1 https://t.co/wKJHDXWGRQ                | 105859 ups ha a service called my choice that will allow your package to be delivered to ups store ml                                           |\n",
            "+------------+----------------------------------------------------------------------------------------------------------------------------------------------------------------------------+-------------------------------------------------------------------------------------------------------------------------------------------------+\n",
            "|     119330 | @105860 I wish Amazon had an option of where I can just get it shipped to the ups store so I can avoid a lot of the struggle                                               | 105860 i wish amazon had an option of where i can just get it shipped to the ups store so i can avoid a lot of the struggle                     |\n",
            "+------------+----------------------------------------------------------------------------------------------------------------------------------------------------------------------------+-------------------------------------------------------------------------------------------------------------------------------------------------+\n",
            "|     119331 | They reschedule my shit for tomorrow https://t.co/RsvZcT982t                                                                                                               | they reschedule my shit for tomorrow                                                                                                            |\n",
            "+------------+----------------------------------------------------------------------------------------------------------------------------------------------------------------------------+-------------------------------------------------------------------------------------------------------------------------------------------------+\n",
            "|     119332 | @105861 Hey Sara, sorry to hear of the issues you are having, can I ask if it's the lay out or just the speed of the website responding? TY - Chris                        | 105861 hey sara sorry to hear of the issue you are having can i ask if it the lay out or just the speed of the website responding ty chris      |\n",
            "+------------+----------------------------------------------------------------------------------------------------------------------------------------------------------------------------+-------------------------------------------------------------------------------------------------------------------------------------------------+\n",
            "|     119333 | @Tesco bit of both - finding the layout cumbersome and when removing an item from faves - getting a huge slowdown. Not keen on the thin green line https://t.co/9281OKEebk | tesco bit of both finding the layout cumbersome and when removing an item from faves getting a huge slowdown not keen on the thin green line    |\n",
            "+------------+----------------------------------------------------------------------------------------------------------------------------------------------------------------------------+-------------------------------------------------------------------------------------------------------------------------------------------------+\n",
            "|     119335 | @105861 If that doesn't help please DM your full name, address and email including the browser and device so we can log this. Thanks - Lee 2/2                             | 105861 if that doesnt help please dm your full name address and email including the browser and device so we can log this thanks lee 22         |\n",
            "+------------+----------------------------------------------------------------------------------------------------------------------------------------------------------------------------+-------------------------------------------------------------------------------------------------------------------------------------------------+\n"
          ]
        }
      ]
    }
  ]
}
{
  "nbformat": 4,
  "nbformat_minor": 0,
  "metadata": {
    "colab": {
      "provenance": []
    },
    "kernelspec": {
      "name": "python3",
      "display_name": "Python 3"
    },
    "language_info": {
      "name": "python"
    }
  },
  "cells": [
    {
      "cell_type": "markdown",
      "source": [
        "***Installer gensim Library***"
      ],
      "metadata": {
        "id": "0crRnrrSTxik"
      }
    },
    {
      "cell_type": "code",
      "execution_count": 1,
      "metadata": {
        "colab": {
          "base_uri": "https://localhost:8080/"
        },
        "id": "ApsCq2jzTmkP",
        "outputId": "aa363880-2c87-46f0-ae61-9c6ec32d6272"
      },
      "outputs": [
        {
          "output_type": "stream",
          "name": "stdout",
          "text": [
            "Requirement already satisfied: gensim in /usr/local/lib/python3.10/dist-packages (4.3.2)\n",
            "Requirement already satisfied: numpy>=1.18.5 in /usr/local/lib/python3.10/dist-packages (from gensim) (1.25.2)\n",
            "Requirement already satisfied: scipy>=1.7.0 in /usr/local/lib/python3.10/dist-packages (from gensim) (1.11.4)\n",
            "Requirement already satisfied: smart-open>=1.8.1 in /usr/local/lib/python3.10/dist-packages (from gensim) (6.4.0)\n"
          ]
        }
      ],
      "source": [
        "!pip install gensim"
      ]
    },
    {
      "cell_type": "code",
      "source": [
        "from gensim import utils\n",
        "from google.colab import files\n",
        "from gensim.models import Word2Vec\n",
        "\n",
        "def read_corpus(filename):\n",
        "    with open(filename, 'r', encoding='utf-8') as file:\n",
        "        for line in file:\n",
        "            yield utils.simple_preprocess(line)\n",
        "\n",
        "# Charger le fichier depuis l'utilisateur\n",
        "uploaded = files.upload()\n",
        "\n",
        "# Récupérer le nom du fichier\n",
        "file_name = next(iter(uploaded))\n",
        "\n",
        "# Lecture du corpus\n",
        "sentences = list(read_corpus(file_name))\n",
        "print(sentences)\n",
        "\n",
        "# Entraînement du modèle Word2Vec\n",
        "model = Word2Vec(sentences, min_count=1, vector_size=100, workers=4)\n",
        "\n",
        "# Sauvegarde du modèle\n",
        "model.save('./word_to_vec.model')\n",
        "print(\"Modèle Word2Vec sauvegardé avec succès.\")\n",
        "\n"
      ],
      "metadata": {
        "colab": {
          "base_uri": "https://localhost:8080/",
          "height": 128
        },
        "id": "uT5ekRhMWOqd",
        "outputId": "d1d46d63-ad04-4bdd-a272-0374825cc0f6"
      },
      "execution_count": 3,
      "outputs": [
        {
          "output_type": "display_data",
          "data": {
            "text/plain": [
              "<IPython.core.display.HTML object>"
            ],
            "text/html": [
              "\n",
              "     <input type=\"file\" id=\"files-9c7a7d34-be71-416a-98f8-c4ce077cb7f2\" name=\"files[]\" multiple disabled\n",
              "        style=\"border:none\" />\n",
              "     <output id=\"result-9c7a7d34-be71-416a-98f8-c4ce077cb7f2\">\n",
              "      Upload widget is only available when the cell has been executed in the\n",
              "      current browser session. Please rerun this cell to enable.\n",
              "      </output>\n",
              "      <script>// Copyright 2017 Google LLC\n",
              "//\n",
              "// Licensed under the Apache License, Version 2.0 (the \"License\");\n",
              "// you may not use this file except in compliance with the License.\n",
              "// You may obtain a copy of the License at\n",
              "//\n",
              "//      http://www.apache.org/licenses/LICENSE-2.0\n",
              "//\n",
              "// Unless required by applicable law or agreed to in writing, software\n",
              "// distributed under the License is distributed on an \"AS IS\" BASIS,\n",
              "// WITHOUT WARRANTIES OR CONDITIONS OF ANY KIND, either express or implied.\n",
              "// See the License for the specific language governing permissions and\n",
              "// limitations under the License.\n",
              "\n",
              "/**\n",
              " * @fileoverview Helpers for google.colab Python module.\n",
              " */\n",
              "(function(scope) {\n",
              "function span(text, styleAttributes = {}) {\n",
              "  const element = document.createElement('span');\n",
              "  element.textContent = text;\n",
              "  for (const key of Object.keys(styleAttributes)) {\n",
              "    element.style[key] = styleAttributes[key];\n",
              "  }\n",
              "  return element;\n",
              "}\n",
              "\n",
              "// Max number of bytes which will be uploaded at a time.\n",
              "const MAX_PAYLOAD_SIZE = 100 * 1024;\n",
              "\n",
              "function _uploadFiles(inputId, outputId) {\n",
              "  const steps = uploadFilesStep(inputId, outputId);\n",
              "  const outputElement = document.getElementById(outputId);\n",
              "  // Cache steps on the outputElement to make it available for the next call\n",
              "  // to uploadFilesContinue from Python.\n",
              "  outputElement.steps = steps;\n",
              "\n",
              "  return _uploadFilesContinue(outputId);\n",
              "}\n",
              "\n",
              "// This is roughly an async generator (not supported in the browser yet),\n",
              "// where there are multiple asynchronous steps and the Python side is going\n",
              "// to poll for completion of each step.\n",
              "// This uses a Promise to block the python side on completion of each step,\n",
              "// then passes the result of the previous step as the input to the next step.\n",
              "function _uploadFilesContinue(outputId) {\n",
              "  const outputElement = document.getElementById(outputId);\n",
              "  const steps = outputElement.steps;\n",
              "\n",
              "  const next = steps.next(outputElement.lastPromiseValue);\n",
              "  return Promise.resolve(next.value.promise).then((value) => {\n",
              "    // Cache the last promise value to make it available to the next\n",
              "    // step of the generator.\n",
              "    outputElement.lastPromiseValue = value;\n",
              "    return next.value.response;\n",
              "  });\n",
              "}\n",
              "\n",
              "/**\n",
              " * Generator function which is called between each async step of the upload\n",
              " * process.\n",
              " * @param {string} inputId Element ID of the input file picker element.\n",
              " * @param {string} outputId Element ID of the output display.\n",
              " * @return {!Iterable<!Object>} Iterable of next steps.\n",
              " */\n",
              "function* uploadFilesStep(inputId, outputId) {\n",
              "  const inputElement = document.getElementById(inputId);\n",
              "  inputElement.disabled = false;\n",
              "\n",
              "  const outputElement = document.getElementById(outputId);\n",
              "  outputElement.innerHTML = '';\n",
              "\n",
              "  const pickedPromise = new Promise((resolve) => {\n",
              "    inputElement.addEventListener('change', (e) => {\n",
              "      resolve(e.target.files);\n",
              "    });\n",
              "  });\n",
              "\n",
              "  const cancel = document.createElement('button');\n",
              "  inputElement.parentElement.appendChild(cancel);\n",
              "  cancel.textContent = 'Cancel upload';\n",
              "  const cancelPromise = new Promise((resolve) => {\n",
              "    cancel.onclick = () => {\n",
              "      resolve(null);\n",
              "    };\n",
              "  });\n",
              "\n",
              "  // Wait for the user to pick the files.\n",
              "  const files = yield {\n",
              "    promise: Promise.race([pickedPromise, cancelPromise]),\n",
              "    response: {\n",
              "      action: 'starting',\n",
              "    }\n",
              "  };\n",
              "\n",
              "  cancel.remove();\n",
              "\n",
              "  // Disable the input element since further picks are not allowed.\n",
              "  inputElement.disabled = true;\n",
              "\n",
              "  if (!files) {\n",
              "    return {\n",
              "      response: {\n",
              "        action: 'complete',\n",
              "      }\n",
              "    };\n",
              "  }\n",
              "\n",
              "  for (const file of files) {\n",
              "    const li = document.createElement('li');\n",
              "    li.append(span(file.name, {fontWeight: 'bold'}));\n",
              "    li.append(span(\n",
              "        `(${file.type || 'n/a'}) - ${file.size} bytes, ` +\n",
              "        `last modified: ${\n",
              "            file.lastModifiedDate ? file.lastModifiedDate.toLocaleDateString() :\n",
              "                                    'n/a'} - `));\n",
              "    const percent = span('0% done');\n",
              "    li.appendChild(percent);\n",
              "\n",
              "    outputElement.appendChild(li);\n",
              "\n",
              "    const fileDataPromise = new Promise((resolve) => {\n",
              "      const reader = new FileReader();\n",
              "      reader.onload = (e) => {\n",
              "        resolve(e.target.result);\n",
              "      };\n",
              "      reader.readAsArrayBuffer(file);\n",
              "    });\n",
              "    // Wait for the data to be ready.\n",
              "    let fileData = yield {\n",
              "      promise: fileDataPromise,\n",
              "      response: {\n",
              "        action: 'continue',\n",
              "      }\n",
              "    };\n",
              "\n",
              "    // Use a chunked sending to avoid message size limits. See b/62115660.\n",
              "    let position = 0;\n",
              "    do {\n",
              "      const length = Math.min(fileData.byteLength - position, MAX_PAYLOAD_SIZE);\n",
              "      const chunk = new Uint8Array(fileData, position, length);\n",
              "      position += length;\n",
              "\n",
              "      const base64 = btoa(String.fromCharCode.apply(null, chunk));\n",
              "      yield {\n",
              "        response: {\n",
              "          action: 'append',\n",
              "          file: file.name,\n",
              "          data: base64,\n",
              "        },\n",
              "      };\n",
              "\n",
              "      let percentDone = fileData.byteLength === 0 ?\n",
              "          100 :\n",
              "          Math.round((position / fileData.byteLength) * 100);\n",
              "      percent.textContent = `${percentDone}% done`;\n",
              "\n",
              "    } while (position < fileData.byteLength);\n",
              "  }\n",
              "\n",
              "  // All done.\n",
              "  yield {\n",
              "    response: {\n",
              "      action: 'complete',\n",
              "    }\n",
              "  };\n",
              "}\n",
              "\n",
              "scope.google = scope.google || {};\n",
              "scope.google.colab = scope.google.colab || {};\n",
              "scope.google.colab._files = {\n",
              "  _uploadFiles,\n",
              "  _uploadFilesContinue,\n",
              "};\n",
              "})(self);\n",
              "</script> "
            ]
          },
          "metadata": {}
        },
        {
          "output_type": "stream",
          "name": "stdout",
          "text": [
            "Saving text.txt to text (1).txt\n",
            "[['morocco', 'and', 'marrakech', 'tapestry', 'of', 'tradition', 'and', 'modernity', 'morocco', 'located', 'at', 'the', 'crossroads', 'of', 'europe', 'and', 'africa', 'is', 'country', 'drenched', 'in', 'history', 'mystery', 'and', 'cultural', 'richness', 'testament', 'to', 'the', 'ancient', 'civilizations', 'that', 'once', 'flourished', 'here', 'this', 'north', 'african', 'kingdom', 'boasts', 'unique', 'blend', 'of', 'arab', 'berber', 'and', 'european', 'influences', 'at', 'the', 'heart', 'of', 'morocco', 'rich', 'tapestry', 'lies', 'marrakech', 'one', 'of', 'its', 'four', 'imperial', 'cities', 'and', 'vibrant', 'epicenter', 'of', 'tradition', 'and', 'modernity', 'geographical', 'significance', 'morocco', 'is', 'bordered', 'by', 'the', 'atlantic', 'ocean', 'to', 'the', 'west', 'the', 'mediterranean', 'sea', 'to', 'the', 'north', 'algeria', 'to', 'the', 'east', 'and', 'southeast', 'and', 'the', 'vast', 'sahara', 'desert', 'to', 'the', 'south', 'its', 'strategic', 'location', 'has', 'historically', 'made', 'it', 'sought', 'after', 'territory', 'and', 'melting', 'pot', 'of', 'cultures', 'religions', 'and', 'trade', 'routes', 'marrakech', 'the', 'red', 'city', 'marrakech', 'often', 'referred', 'to', 'as', 'the', 'red', 'city', 'due', 'to', 'its', 'distinctive', 'red', 'hued', 'buildings', 'stands', 'against', 'the', 'backdrop', 'of', 'the', 'snow', 'capped', 'atlas', 'mountains', 'established', 'in', 'the', 'th', 'century', 'it', 'has', 'remained', 'crucial', 'political', 'economic', 'and', 'cultural', 'center', 'of', 'morocco', 'journey', 'through', 'the', 'medina', 'marrakech', 'old', 'town', 'the', 'medina', 'is', 'unesco', 'world', 'heritage', 'site', 'and', 'labyrinthine', 'maze', 'of', 'narrow', 'alleys', 'bustling', 'souks', 'and', 'historical', 'landmarks', 'the', 'djemaa', 'el', 'fna', 'square', 'lies', 'at', 'the', 'heart', 'of', 'the', 'medina', 'and', 'comes', 'alive', 'every', 'evening', 'with', 'storytellers', 'musicians', 'snake', 'charmers', 'and', 'food', 'stalls', 'offering', 'tantalizing', 'moroccan', 'delicacies', 'palaces', 'and', 'gardens', 'the', 'city', 'is', 'also', 'home', 'to', 'grand', 'palaces', 'like', 'the', 'bahia', 'palace', 'showcasing', 'intricate', 'islamic', 'architecture', 'and', 'the', 'saadian', 'tombs', 'remnants', 'of', 'the', 'saadian', 'dynasty', 'the', 'majorelle', 'garden', 'restored', 'by', 'the', 'fashion', 'designer', 'yves', 'saint', 'laurent', 'is', 'tranquil', 'oasis', 'of', 'cacti', 'palm', 'trees', 'and', 'cobalt', 'blue', 'accents', 'modern', 'marrakech', 'while', 'tradition', 'and', 'history', 'permeate', 'marrakech', 'the', 'city', 'is', 'not', 'averse', 'to', 'the', 'modern', 'world', 'gueliz', 'the', 'new', 'town', 'is', 'brimming', 'with', 'contemporary', 'art', 'galleries', 'stylish', 'cafes', 'and', 'chic', 'boutiques', 'offering', 'stark', 'contrast', 'to', 'the', 'ancient', 'medina', 'moroccan', 'cuisine', 'no', 'journey', 'through', 'morocco', 'and', 'marrakech', 'would', 'be', 'complete', 'without', 'indulging', 'in', 'the', 'local', 'cuisine', 'tagines', 'couscous', 'and', 'pastilla', 'are', 'just', 'few', 'of', 'the', 'many', 'dishes', 'that', 'combine', 'plethora', 'of', 'flavors', 'and', 'spices', 'like', 'saffron', 'cumin', 'and', 'mint', 'paired', 'with', 'moroccan', 'mint', 'tea', 'the', 'culinary', 'experience', 'is', 'truly', 'unparalleled', 'in', 'conclusion', 'morocco', 'with', 'marrakech', 'at', 'its', 'heart', 'offers', 'travelers', 'an', 'unparalleled', 'journey', 'through', 'time', 'the', 'convergence', 'of', 'history', 'culture', 'architecture', 'and', 'gastronomy', 'makes', 'it', 'an', 'enthralling', 'destination', 'for', 'those', 'seeking', 'both', 'adventure', 'and', 'reflection', 'as', 'the', 'moroccan', 'proverb', 'goes', 'he', 'who', 'does', 'not', 'travel', 'does', 'not', 'know', 'the', 'value', 'of', 'men', 'in', 'the', 'case', 'of', 'morocco', 'and', 'marrakech', 'it', 'not', 'just', 'the', 'value', 'of', 'men', 'but', 'also', 'the', 'value', 'of', 'time', 'tradition', 'and', 'tales', 'that', 'have', 'spanned', 'centuries']]\n",
            "Modèle Word2Vec sauvegardé avec succès.\n"
          ]
        }
      ]
    },
    {
      "cell_type": "markdown",
      "source": [
        "***Vectorisation***"
      ],
      "metadata": {
        "id": "gK5WmHzdjKLB"
      }
    },
    {
      "cell_type": "code",
      "source": [
        "words_vector = [model.wv[word] for word in sentences]\n",
        "print(words_vector)\n",
        "model.wv.save_word2vec_format('words_vectors.text',binary=False)"
      ],
      "metadata": {
        "colab": {
          "base_uri": "https://localhost:8080/"
        },
        "id": "iTZ13lrLjNFP",
        "outputId": "36cdea22-afaf-408f-9048-a6afb07a41f6"
      },
      "execution_count": 4,
      "outputs": [
        {
          "output_type": "stream",
          "name": "stdout",
          "text": [
            "[array([[-0.00873809,  0.00226957, -0.00084624, ..., -0.00882923,\n",
            "         0.00301891, -0.00663717],\n",
            "       [-0.00864786,  0.00394358,  0.0052691 , ..., -0.00258319,\n",
            "        -0.00938736,  0.00453307],\n",
            "       [-0.00821526,  0.00950234, -0.00014681, ..., -0.00763057,\n",
            "        -0.00236962, -0.00548861],\n",
            "       ...,\n",
            "       [-0.00452504, -0.00653396,  0.00555252, ..., -0.0029807 ,\n",
            "         0.00523548, -0.0007321 ],\n",
            "       [-0.00305008,  0.00378533,  0.00385601, ...,  0.00901304,\n",
            "        -0.00359052,  0.00411143],\n",
            "       [-0.00703125, -0.00560686,  0.00971714, ...,  0.00468867,\n",
            "        -0.00697161,  0.00633496]], dtype=float32)]\n"
          ]
        }
      ]
    },
    {
      "cell_type": "markdown",
      "source": [
        "***Similarity***"
      ],
      "metadata": {
        "id": "yZmyI3l3jwIC"
      }
    },
    {
      "cell_type": "code",
      "source": [
        "from itertools import combinations\n",
        "from gensim.models import Word2Vec\n",
        "\n",
        "# Charger le modèle Word2Vec pré-entraîné\n",
        "model = Word2Vec.load('./word_to_vec.model')\n",
        "\n",
        "# Obtenir tous les mots uniques dans le corpus\n",
        "unique_words = list(model.wv.key_to_index.keys())\n",
        "print(unique_words)\n",
        "\n",
        "# Calculer la similarité entre tous les mots dans le corpus\n",
        "similarities = {}\n",
        "for word1, word2 in combinations(unique_words, 2):\n",
        "    similarity = model.wv.similarity(word1, word2)\n",
        "    similarities[(word1, word2)] = similarity\n",
        "\n",
        "# Afficher la similarité entre deux mots spécifiques\n",
        "word1 = \"europe\"\n",
        "word2 = \"west\"\n",
        "similarity = similarities.get((word1, word2))\n",
        "print(\"Similarité entre les mots '{}' et '{}': {}\".format(word1, word2, similarity))\n",
        "\n",
        ""
      ],
      "metadata": {
        "colab": {
          "base_uri": "https://localhost:8080/"
        },
        "id": "a-wB-4aljzfg",
        "outputId": "600f5b2f-f508-470b-81be-a7bdcf8afb0a"
      },
      "execution_count": 8,
      "outputs": [
        {
          "output_type": "stream",
          "name": "stdout",
          "text": [
            "['the', 'and', 'of', 'marrakech', 'to', 'morocco', 'is', 'in', 'not', 'city', 'its', 'moroccan', 'with', 'medina', 'it', 'tradition', 'at', 'red', 'value', 'that', 'journey', 'through', 'heart', 'history', 'men', 'tapestry', 'saadian', 'offering', 'as', 'by', 'cuisine', 'modern', 'like', 'also', 'has', 'palaces', 'lies', 'just', 'architecture', 'world', 'ancient', 'time', 'does', 'unparalleled', 'mint', 'north', 'town', 'cultural', 'modernity', 'an', 'routes', 'referred', 'often', 'site', 'century', 'trade', 'old', 'cultures', 'pot', 'melting', 'heritage', 'territory', 'after', 'religions', 'distinctive', 'due', 'crucial', 'sought', 'mountains', 'atlas', 'remained', 'capped', 'unesco', 'snow', 'political', 'th', 'backdrop', 'economic', 'against', 'stands', 'buildings', 'center', 'hued', 'established', 'mediterranean', 'made', 'flourished', 'european', 'berber', 'arab', 'blend', 'unique', 'boasts', 'kingdom', 'african', 'this', 'here', 'once', 'historically', 'civilizations', 'testament', 'richness', 'mystery', 'drenched', 'country', 'africa', 'europe', 'crossroads', 'located', 'influences', 'rich', 'one', 'four', 'location', 'strategic', 'south', 'desert', 'sahara', 'vast', 'southeast', 'east', 'algeria', 'sea', 'maze', 'west', 'ocean', 'atlantic', 'bordered', 'significance', 'geographical', 'epicenter', 'vibrant', 'cities', 'imperial', 'labyrinthine', 'centuries', 'narrow', 'culinary', 'paired', 'cumin', 'saffron', 'spices', 'flavors', 'plethora', 'combine', 'dishes', 'many', 'few', 'are', 'pastilla', 'couscous', 'tagines', 'local', 'indulging', 'without', 'complete', 'be', 'would', 'no', 'contrast', 'stark', 'boutiques', 'chic', 'tea', 'experience', 'stylish', 'truly', 'have', 'tales', 'but', 'case', 'know', 'travel', 'who', 'he', 'goes', 'proverb', 'reflection', 'adventure', 'both', 'seeking', 'those', 'for', 'destination', 'enthralling', 'makes', 'gastronomy', 'culture', 'convergence', 'travelers', 'offers', 'conclusion', 'cafes', 'galleries', 'alleys', 'intricate', 'palace', 'bahia', 'grand', 'home', 'gardens', 'delicacies', 'tantalizing', 'stalls', 'food', 'charmers', 'snake', 'musicians', 'storytellers', 'evening', 'every', 'alive', 'comes', 'spanned', 'fna', 'el', 'djemaa', 'landmarks', 'historical', 'souks', 'bustling', 'showcasing', 'islamic', 'art', 'tombs', 'contemporary', 'brimming', 'new', 'gueliz', 'averse', 'permeate', 'while', 'accents', 'blue', 'cobalt', 'trees', 'palm', 'cacti', 'oasis', 'tranquil', 'laurent', 'saint', 'yves', 'designer', 'fashion', 'restored', 'garden', 'majorelle', 'dynasty', 'remnants', 'square']\n",
            "Similarité entre les mots 'europe' et 'west': 0.28858402371406555\n"
          ]
        }
      ]
    },
    {
      "cell_type": "markdown",
      "source": [
        "***Les plus similaires***"
      ],
      "metadata": {
        "id": "vHp2E_NWmKeW"
      }
    },
    {
      "cell_type": "code",
      "source": [
        "# load the words vectors\n",
        "from gensim.models.keyedvectors import KeyedVectors\n",
        "loaded_word_vectors = KeyedVectors.load_word2vec_format(\"words_vectors.text\", binary=False)\n",
        "print('most similarities to morocco : ')\n",
        "word_morocco = loaded_word_vectors.most_similar(\"morocco\",topn=5)\n",
        "word_morocco"
      ],
      "metadata": {
        "colab": {
          "base_uri": "https://localhost:8080/"
        },
        "id": "B5eZk0IDmO3e",
        "outputId": "657c24bf-8496-439b-99f9-a3078188f580"
      },
      "execution_count": 10,
      "outputs": [
        {
          "output_type": "stream",
          "name": "stdout",
          "text": [
            "most similarities to morocco : \n"
          ]
        },
        {
          "output_type": "execute_result",
          "data": {
            "text/plain": [
              "[('comes', 0.3211769163608551),\n",
              " ('snow', 0.3105997145175934),\n",
              " ('mountains', 0.2844999432563782),\n",
              " ('against', 0.2412889003753662),\n",
              " ('berber', 0.20771968364715576)]"
            ]
          },
          "metadata": {},
          "execution_count": 10
        }
      ]
    },
    {
      "cell_type": "code",
      "source": [
        "word_europe = loaded_word_vectors.most_similar('europe')\n",
        "word_europe"
      ],
      "metadata": {
        "colab": {
          "base_uri": "https://localhost:8080/"
        },
        "id": "n31K6n3XmdD4",
        "outputId": "1596d78c-cfd3-4cbf-d887-564cc953cc88"
      },
      "execution_count": 11,
      "outputs": [
        {
          "output_type": "execute_result",
          "data": {
            "text/plain": [
              "[('west', 0.28858399391174316),\n",
              " ('blend', 0.24392668902873993),\n",
              " ('testament', 0.2290310263633728),\n",
              " ('red', 0.21492047607898712),\n",
              " ('many', 0.1961124837398529),\n",
              " ('crucial', 0.1894175410270691),\n",
              " ('case', 0.18915274739265442),\n",
              " ('arab', 0.17835131287574768),\n",
              " ('spices', 0.17564605176448822),\n",
              " ('heart', 0.1740351915359497)]"
            ]
          },
          "metadata": {},
          "execution_count": 11
        }
      ]
    },
    {
      "cell_type": "code",
      "source": [
        "word_marrakech = loaded_word_vectors.most_similar('marrakech')\n",
        "word_marrakech"
      ],
      "metadata": {
        "colab": {
          "base_uri": "https://localhost:8080/"
        },
        "id": "M-Q_XJ8rmixC",
        "outputId": "16b08df2-eb7d-4bcc-e5b9-a1b43e83912c"
      },
      "execution_count": 12,
      "outputs": [
        {
          "output_type": "execute_result",
          "data": {
            "text/plain": [
              "[('evening', 0.29856181144714355),\n",
              " ('but', 0.2722093164920807),\n",
              " ('labyrinthine', 0.2573889493942261),\n",
              " ('averse', 0.24176569283008575),\n",
              " ('permeate', 0.2268962860107422),\n",
              " ('without', 0.22356857359409332),\n",
              " ('alleys', 0.21861228346824646),\n",
              " ('capped', 0.20676937699317932),\n",
              " ('designer', 0.1892811506986618),\n",
              " ('sahara', 0.18486753106117249)]"
            ]
          },
          "metadata": {},
          "execution_count": 12
        }
      ]
    }
  ]
}